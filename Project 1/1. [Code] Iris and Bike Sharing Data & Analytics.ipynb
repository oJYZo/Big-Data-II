{
 "cells": [
  {
   "cell_type": "markdown",
   "metadata": {},
   "source": [
    "# Project 1 Iris and Bike Sharing Data & Analytics\n",
    "\n",
    "Jianying Zhu\n",
    "\n",
    "03/21/2021"
   ]
  },
  {
   "cell_type": "code",
   "execution_count": 1,
   "metadata": {},
   "outputs": [],
   "source": [
    "import numpy as np\n",
    "import pandas as pd\n",
    "%matplotlib inline\n",
    "import matplotlib as mpl\n",
    "import matplotlib.pylab as plt\n",
    "import seaborn as sns\n",
    "\n",
    "from sklearn import preprocessing\n",
    "from sklearn.preprocessing import StandardScaler\n",
    "from sklearn.model_selection import train_test_split\n",
    "from sklearn.model_selection import cross_val_score, cross_validate, cross_val_predict\n",
    "from sklearn.metrics import confusion_matrix\n",
    "\n",
    "from dmba import classificationSummary, gainsChart\n",
    "from dmba import regressionSummary, exhaustive_search\n",
    "from dmba import adjusted_r2_score, AIC_score, BIC_score\n",
    "\n",
    "from sklearn.neighbors import NearestNeighbors, KNeighborsClassifier\n",
    "from sklearn.naive_bayes import MultinomialNB\n",
    "from sklearn.naive_bayes import GaussianNB\n",
    "from sklearn.linear_model import LogisticRegression, LogisticRegressionCV\n",
    "from sklearn.metrics import accuracy_score\n",
    "from sklearn.metrics import classification_report\n",
    "from sklearn.linear_model import LinearRegression, Lasso, Ridge, LassoCV, BayesianRidge"
   ]
  },
  {
   "cell_type": "markdown",
   "metadata": {},
   "source": [
    "## Exercise 1"
   ]
  },
  {
   "cell_type": "code",
   "execution_count": 2,
   "metadata": {},
   "outputs": [],
   "source": [
    "iris = pd.read_csv(\"C:\\\\Users\\\\14830\\\\Downloads\\\\iris_dataset.csv\", header=None)\n",
    "iris.columns = ['sepal length', 'sepal width', 'petal length', 'petal width', 'classes']"
   ]
  },
  {
   "cell_type": "code",
   "execution_count": 3,
   "metadata": {},
   "outputs": [
    {
     "data": {
      "text/html": [
       "<div>\n",
       "<style scoped>\n",
       "    .dataframe tbody tr th:only-of-type {\n",
       "        vertical-align: middle;\n",
       "    }\n",
       "\n",
       "    .dataframe tbody tr th {\n",
       "        vertical-align: top;\n",
       "    }\n",
       "\n",
       "    .dataframe thead th {\n",
       "        text-align: right;\n",
       "    }\n",
       "</style>\n",
       "<table border=\"1\" class=\"dataframe\">\n",
       "  <thead>\n",
       "    <tr style=\"text-align: right;\">\n",
       "      <th></th>\n",
       "      <th>sepal length</th>\n",
       "      <th>sepal width</th>\n",
       "      <th>petal length</th>\n",
       "      <th>petal width</th>\n",
       "      <th>classes</th>\n",
       "    </tr>\n",
       "  </thead>\n",
       "  <tbody>\n",
       "    <tr>\n",
       "      <th>0</th>\n",
       "      <td>5.1</td>\n",
       "      <td>3.5</td>\n",
       "      <td>1.4</td>\n",
       "      <td>0.2</td>\n",
       "      <td>Iris-setosa</td>\n",
       "    </tr>\n",
       "    <tr>\n",
       "      <th>1</th>\n",
       "      <td>4.9</td>\n",
       "      <td>3.0</td>\n",
       "      <td>1.4</td>\n",
       "      <td>0.2</td>\n",
       "      <td>Iris-setosa</td>\n",
       "    </tr>\n",
       "    <tr>\n",
       "      <th>2</th>\n",
       "      <td>4.7</td>\n",
       "      <td>3.2</td>\n",
       "      <td>1.3</td>\n",
       "      <td>0.2</td>\n",
       "      <td>Iris-setosa</td>\n",
       "    </tr>\n",
       "    <tr>\n",
       "      <th>3</th>\n",
       "      <td>4.6</td>\n",
       "      <td>3.1</td>\n",
       "      <td>1.5</td>\n",
       "      <td>0.2</td>\n",
       "      <td>Iris-setosa</td>\n",
       "    </tr>\n",
       "    <tr>\n",
       "      <th>4</th>\n",
       "      <td>5.0</td>\n",
       "      <td>3.6</td>\n",
       "      <td>1.4</td>\n",
       "      <td>0.2</td>\n",
       "      <td>Iris-setosa</td>\n",
       "    </tr>\n",
       "    <tr>\n",
       "      <th>...</th>\n",
       "      <td>...</td>\n",
       "      <td>...</td>\n",
       "      <td>...</td>\n",
       "      <td>...</td>\n",
       "      <td>...</td>\n",
       "    </tr>\n",
       "    <tr>\n",
       "      <th>145</th>\n",
       "      <td>6.7</td>\n",
       "      <td>3.0</td>\n",
       "      <td>5.2</td>\n",
       "      <td>2.3</td>\n",
       "      <td>Iris-virginica</td>\n",
       "    </tr>\n",
       "    <tr>\n",
       "      <th>146</th>\n",
       "      <td>6.3</td>\n",
       "      <td>2.5</td>\n",
       "      <td>5.0</td>\n",
       "      <td>1.9</td>\n",
       "      <td>Iris-virginica</td>\n",
       "    </tr>\n",
       "    <tr>\n",
       "      <th>147</th>\n",
       "      <td>6.5</td>\n",
       "      <td>3.0</td>\n",
       "      <td>5.2</td>\n",
       "      <td>2.0</td>\n",
       "      <td>Iris-virginica</td>\n",
       "    </tr>\n",
       "    <tr>\n",
       "      <th>148</th>\n",
       "      <td>6.2</td>\n",
       "      <td>3.4</td>\n",
       "      <td>5.4</td>\n",
       "      <td>2.3</td>\n",
       "      <td>Iris-virginica</td>\n",
       "    </tr>\n",
       "    <tr>\n",
       "      <th>149</th>\n",
       "      <td>5.9</td>\n",
       "      <td>3.0</td>\n",
       "      <td>5.1</td>\n",
       "      <td>1.8</td>\n",
       "      <td>Iris-virginica</td>\n",
       "    </tr>\n",
       "  </tbody>\n",
       "</table>\n",
       "<p>150 rows × 5 columns</p>\n",
       "</div>"
      ],
      "text/plain": [
       "     sepal length  sepal width  petal length  petal width         classes\n",
       "0             5.1          3.5           1.4          0.2     Iris-setosa\n",
       "1             4.9          3.0           1.4          0.2     Iris-setosa\n",
       "2             4.7          3.2           1.3          0.2     Iris-setosa\n",
       "3             4.6          3.1           1.5          0.2     Iris-setosa\n",
       "4             5.0          3.6           1.4          0.2     Iris-setosa\n",
       "..            ...          ...           ...          ...             ...\n",
       "145           6.7          3.0           5.2          2.3  Iris-virginica\n",
       "146           6.3          2.5           5.0          1.9  Iris-virginica\n",
       "147           6.5          3.0           5.2          2.0  Iris-virginica\n",
       "148           6.2          3.4           5.4          2.3  Iris-virginica\n",
       "149           5.9          3.0           5.1          1.8  Iris-virginica\n",
       "\n",
       "[150 rows x 5 columns]"
      ]
     },
     "metadata": {},
     "output_type": "display_data"
    }
   ],
   "source": [
    "display(iris)"
   ]
  },
  {
   "cell_type": "code",
   "execution_count": 4,
   "metadata": {},
   "outputs": [
    {
     "data": {
      "text/html": [
       "<div>\n",
       "<style scoped>\n",
       "    .dataframe tbody tr th:only-of-type {\n",
       "        vertical-align: middle;\n",
       "    }\n",
       "\n",
       "    .dataframe tbody tr th {\n",
       "        vertical-align: top;\n",
       "    }\n",
       "\n",
       "    .dataframe thead th {\n",
       "        text-align: right;\n",
       "    }\n",
       "</style>\n",
       "<table border=\"1\" class=\"dataframe\">\n",
       "  <thead>\n",
       "    <tr style=\"text-align: right;\">\n",
       "      <th></th>\n",
       "      <th>sepal length</th>\n",
       "      <th>sepal width</th>\n",
       "      <th>petal length</th>\n",
       "      <th>petal width</th>\n",
       "      <th>classes</th>\n",
       "    </tr>\n",
       "  </thead>\n",
       "  <tbody>\n",
       "    <tr>\n",
       "      <th>count</th>\n",
       "      <td>150.000000</td>\n",
       "      <td>150.000000</td>\n",
       "      <td>150.000000</td>\n",
       "      <td>150.000000</td>\n",
       "      <td>150</td>\n",
       "    </tr>\n",
       "    <tr>\n",
       "      <th>unique</th>\n",
       "      <td>NaN</td>\n",
       "      <td>NaN</td>\n",
       "      <td>NaN</td>\n",
       "      <td>NaN</td>\n",
       "      <td>3</td>\n",
       "    </tr>\n",
       "    <tr>\n",
       "      <th>top</th>\n",
       "      <td>NaN</td>\n",
       "      <td>NaN</td>\n",
       "      <td>NaN</td>\n",
       "      <td>NaN</td>\n",
       "      <td>Iris-virginica</td>\n",
       "    </tr>\n",
       "    <tr>\n",
       "      <th>freq</th>\n",
       "      <td>NaN</td>\n",
       "      <td>NaN</td>\n",
       "      <td>NaN</td>\n",
       "      <td>NaN</td>\n",
       "      <td>50</td>\n",
       "    </tr>\n",
       "    <tr>\n",
       "      <th>mean</th>\n",
       "      <td>5.843333</td>\n",
       "      <td>3.057333</td>\n",
       "      <td>3.758000</td>\n",
       "      <td>1.199333</td>\n",
       "      <td>NaN</td>\n",
       "    </tr>\n",
       "    <tr>\n",
       "      <th>std</th>\n",
       "      <td>0.828066</td>\n",
       "      <td>0.435866</td>\n",
       "      <td>1.765298</td>\n",
       "      <td>0.762238</td>\n",
       "      <td>NaN</td>\n",
       "    </tr>\n",
       "    <tr>\n",
       "      <th>min</th>\n",
       "      <td>4.300000</td>\n",
       "      <td>2.000000</td>\n",
       "      <td>1.000000</td>\n",
       "      <td>0.100000</td>\n",
       "      <td>NaN</td>\n",
       "    </tr>\n",
       "    <tr>\n",
       "      <th>25%</th>\n",
       "      <td>5.100000</td>\n",
       "      <td>2.800000</td>\n",
       "      <td>1.600000</td>\n",
       "      <td>0.300000</td>\n",
       "      <td>NaN</td>\n",
       "    </tr>\n",
       "    <tr>\n",
       "      <th>50%</th>\n",
       "      <td>5.800000</td>\n",
       "      <td>3.000000</td>\n",
       "      <td>4.350000</td>\n",
       "      <td>1.300000</td>\n",
       "      <td>NaN</td>\n",
       "    </tr>\n",
       "    <tr>\n",
       "      <th>75%</th>\n",
       "      <td>6.400000</td>\n",
       "      <td>3.300000</td>\n",
       "      <td>5.100000</td>\n",
       "      <td>1.800000</td>\n",
       "      <td>NaN</td>\n",
       "    </tr>\n",
       "    <tr>\n",
       "      <th>max</th>\n",
       "      <td>7.900000</td>\n",
       "      <td>4.400000</td>\n",
       "      <td>6.900000</td>\n",
       "      <td>2.500000</td>\n",
       "      <td>NaN</td>\n",
       "    </tr>\n",
       "  </tbody>\n",
       "</table>\n",
       "</div>"
      ],
      "text/plain": [
       "        sepal length  sepal width  petal length  petal width         classes\n",
       "count     150.000000   150.000000    150.000000   150.000000             150\n",
       "unique           NaN          NaN           NaN          NaN               3\n",
       "top              NaN          NaN           NaN          NaN  Iris-virginica\n",
       "freq             NaN          NaN           NaN          NaN              50\n",
       "mean        5.843333     3.057333      3.758000     1.199333             NaN\n",
       "std         0.828066     0.435866      1.765298     0.762238             NaN\n",
       "min         4.300000     2.000000      1.000000     0.100000             NaN\n",
       "25%         5.100000     2.800000      1.600000     0.300000             NaN\n",
       "50%         5.800000     3.000000      4.350000     1.300000             NaN\n",
       "75%         6.400000     3.300000      5.100000     1.800000             NaN\n",
       "max         7.900000     4.400000      6.900000     2.500000             NaN"
      ]
     },
     "execution_count": 4,
     "metadata": {},
     "output_type": "execute_result"
    }
   ],
   "source": [
    "iris.describe(include = 'all')"
   ]
  },
  {
   "cell_type": "code",
   "execution_count": 5,
   "metadata": {},
   "outputs": [
    {
     "name": "stdout",
     "output_type": "stream",
     "text": [
      "<class 'pandas.core.frame.DataFrame'>\n",
      "RangeIndex: 150 entries, 0 to 149\n",
      "Data columns (total 5 columns):\n",
      " #   Column        Non-Null Count  Dtype  \n",
      "---  ------        --------------  -----  \n",
      " 0   sepal length  150 non-null    float64\n",
      " 1   sepal width   150 non-null    float64\n",
      " 2   petal length  150 non-null    float64\n",
      " 3   petal width   150 non-null    float64\n",
      " 4   classes       150 non-null    object \n",
      "dtypes: float64(4), object(1)\n",
      "memory usage: 6.0+ KB\n"
     ]
    }
   ],
   "source": [
    "iris.info()"
   ]
  },
  {
   "cell_type": "code",
   "execution_count": 6,
   "metadata": {},
   "outputs": [
    {
     "data": {
      "text/plain": [
       "sepal length    0\n",
       "sepal width     0\n",
       "petal length    0\n",
       "petal width     0\n",
       "classes         0\n",
       "dtype: int64"
      ]
     },
     "execution_count": 6,
     "metadata": {},
     "output_type": "execute_result"
    }
   ],
   "source": [
    "iris.isnull().sum()\n",
    "#iris.dtypes\n",
    "#iris.shape\n",
    "#iris = iris.reset_index(drop=False)\n",
    "\n",
    "#method B add headers\n",
    "#new_header = ['sepal length', 'sepal width', 'petal length', 'petal width', 'class']\n",
    "#iris.rename(columns = iris.iloc[0])\n",
    "#iris = iris[0:] #take the data less the header row\n",
    "#iris.columns = new_header "
   ]
  },
  {
   "cell_type": "code",
   "execution_count": 7,
   "metadata": {},
   "outputs": [
    {
     "name": "stdout",
     "output_type": "stream",
     "text": [
      "[[5.1 3.5 1.4 0.2]\n",
      " [4.9 3.  1.4 0.2]\n",
      " [4.7 3.2 1.3 0.2]\n",
      " [4.6 3.1 1.5 0.2]\n",
      " [5.  3.6 1.4 0.2]\n",
      " [5.4 3.9 1.7 0.4]\n",
      " [4.6 3.4 1.4 0.3]\n",
      " [5.  3.4 1.5 0.2]\n",
      " [4.4 2.9 1.4 0.2]\n",
      " [4.9 3.1 1.5 0.1]\n",
      " [5.4 3.7 1.5 0.2]\n",
      " [4.8 3.4 1.6 0.2]\n",
      " [4.8 3.  1.4 0.1]\n",
      " [4.3 3.  1.1 0.1]\n",
      " [5.8 4.  1.2 0.2]\n",
      " [5.7 4.4 1.5 0.4]\n",
      " [5.4 3.9 1.3 0.4]\n",
      " [5.1 3.5 1.4 0.3]\n",
      " [5.7 3.8 1.7 0.3]\n",
      " [5.1 3.8 1.5 0.3]\n",
      " [5.4 3.4 1.7 0.2]\n",
      " [5.1 3.7 1.5 0.4]\n",
      " [4.6 3.6 1.  0.2]\n",
      " [5.1 3.3 1.7 0.5]\n",
      " [4.8 3.4 1.9 0.2]\n",
      " [5.  3.  1.6 0.2]\n",
      " [5.  3.4 1.6 0.4]\n",
      " [5.2 3.5 1.5 0.2]\n",
      " [5.2 3.4 1.4 0.2]\n",
      " [4.7 3.2 1.6 0.2]\n",
      " [4.8 3.1 1.6 0.2]\n",
      " [5.4 3.4 1.5 0.4]\n",
      " [5.2 4.1 1.5 0.1]\n",
      " [5.5 4.2 1.4 0.2]\n",
      " [4.9 3.1 1.5 0.2]\n",
      " [5.  3.2 1.2 0.2]\n",
      " [5.5 3.5 1.3 0.2]\n",
      " [4.9 3.6 1.4 0.1]\n",
      " [4.4 3.  1.3 0.2]\n",
      " [5.1 3.4 1.5 0.2]\n",
      " [5.  3.5 1.3 0.3]\n",
      " [4.5 2.3 1.3 0.3]\n",
      " [4.4 3.2 1.3 0.2]\n",
      " [5.  3.5 1.6 0.6]\n",
      " [5.1 3.8 1.9 0.4]\n",
      " [4.8 3.  1.4 0.3]\n",
      " [5.1 3.8 1.6 0.2]\n",
      " [4.6 3.2 1.4 0.2]\n",
      " [5.3 3.7 1.5 0.2]\n",
      " [5.  3.3 1.4 0.2]\n",
      " [7.  3.2 4.7 1.4]\n",
      " [6.4 3.2 4.5 1.5]\n",
      " [6.9 3.1 4.9 1.5]\n",
      " [5.5 2.3 4.  1.3]\n",
      " [6.5 2.8 4.6 1.5]\n",
      " [5.7 2.8 4.5 1.3]\n",
      " [6.3 3.3 4.7 1.6]\n",
      " [4.9 2.4 3.3 1. ]\n",
      " [6.6 2.9 4.6 1.3]\n",
      " [5.2 2.7 3.9 1.4]\n",
      " [5.  2.  3.5 1. ]\n",
      " [5.9 3.  4.2 1.5]\n",
      " [6.  2.2 4.  1. ]\n",
      " [6.1 2.9 4.7 1.4]\n",
      " [5.6 2.9 3.6 1.3]\n",
      " [6.7 3.1 4.4 1.4]\n",
      " [5.6 3.  4.5 1.5]\n",
      " [5.8 2.7 4.1 1. ]\n",
      " [6.2 2.2 4.5 1.5]\n",
      " [5.6 2.5 3.9 1.1]\n",
      " [5.9 3.2 4.8 1.8]\n",
      " [6.1 2.8 4.  1.3]\n",
      " [6.3 2.5 4.9 1.5]\n",
      " [6.1 2.8 4.7 1.2]\n",
      " [6.4 2.9 4.3 1.3]\n",
      " [6.6 3.  4.4 1.4]\n",
      " [6.8 2.8 4.8 1.4]\n",
      " [6.7 3.  5.  1.7]\n",
      " [6.  2.9 4.5 1.5]\n",
      " [5.7 2.6 3.5 1. ]\n",
      " [5.5 2.4 3.8 1.1]\n",
      " [5.5 2.4 3.7 1. ]\n",
      " [5.8 2.7 3.9 1.2]\n",
      " [6.  2.7 5.1 1.6]\n",
      " [5.4 3.  4.5 1.5]\n",
      " [6.  3.4 4.5 1.6]\n",
      " [6.7 3.1 4.7 1.5]\n",
      " [6.3 2.3 4.4 1.3]\n",
      " [5.6 3.  4.1 1.3]\n",
      " [5.5 2.5 4.  1.3]\n",
      " [5.5 2.6 4.4 1.2]\n",
      " [6.1 3.  4.6 1.4]\n",
      " [5.8 2.6 4.  1.2]\n",
      " [5.  2.3 3.3 1. ]\n",
      " [5.6 2.7 4.2 1.3]\n",
      " [5.7 3.  4.2 1.2]\n",
      " [5.7 2.9 4.2 1.3]\n",
      " [6.2 2.9 4.3 1.3]\n",
      " [5.1 2.5 3.  1.1]\n",
      " [5.7 2.8 4.1 1.3]\n",
      " [6.3 3.3 6.  2.5]\n",
      " [5.8 2.7 5.1 1.9]\n",
      " [7.1 3.  5.9 2.1]\n",
      " [6.3 2.9 5.6 1.8]\n",
      " [6.5 3.  5.8 2.2]\n",
      " [7.6 3.  6.6 2.1]\n",
      " [4.9 2.5 4.5 1.7]\n",
      " [7.3 2.9 6.3 1.8]\n",
      " [6.7 2.5 5.8 1.8]\n",
      " [7.2 3.6 6.1 2.5]\n",
      " [6.5 3.2 5.1 2. ]\n",
      " [6.4 2.7 5.3 1.9]\n",
      " [6.8 3.  5.5 2.1]\n",
      " [5.7 2.5 5.  2. ]\n",
      " [5.8 2.8 5.1 2.4]\n",
      " [6.4 3.2 5.3 2.3]\n",
      " [6.5 3.  5.5 1.8]\n",
      " [7.7 3.8 6.7 2.2]\n",
      " [7.7 2.6 6.9 2.3]\n",
      " [6.  2.2 5.  1.5]\n",
      " [6.9 3.2 5.7 2.3]\n",
      " [5.6 2.8 4.9 2. ]\n",
      " [7.7 2.8 6.7 2. ]\n",
      " [6.3 2.7 4.9 1.8]\n",
      " [6.7 3.3 5.7 2.1]\n",
      " [7.2 3.2 6.  1.8]\n",
      " [6.2 2.8 4.8 1.8]\n",
      " [6.1 3.  4.9 1.8]\n",
      " [6.4 2.8 5.6 2.1]\n",
      " [7.2 3.  5.8 1.6]\n",
      " [7.4 2.8 6.1 1.9]\n",
      " [7.9 3.8 6.4 2. ]\n",
      " [6.4 2.8 5.6 2.2]\n",
      " [6.3 2.8 5.1 1.5]\n",
      " [6.1 2.6 5.6 1.4]\n",
      " [7.7 3.  6.1 2.3]\n",
      " [6.3 3.4 5.6 2.4]\n",
      " [6.4 3.1 5.5 1.8]\n",
      " [6.  3.  4.8 1.8]\n",
      " [6.9 3.1 5.4 2.1]\n",
      " [6.7 3.1 5.6 2.4]\n",
      " [6.9 3.1 5.1 2.3]\n",
      " [5.8 2.7 5.1 1.9]\n",
      " [6.8 3.2 5.9 2.3]\n",
      " [6.7 3.3 5.7 2.5]\n",
      " [6.7 3.  5.2 2.3]\n",
      " [6.3 2.5 5.  1.9]\n",
      " [6.5 3.  5.2 2. ]\n",
      " [6.2 3.4 5.4 2.3]\n",
      " [5.9 3.  5.1 1.8]]\n"
     ]
    }
   ],
   "source": [
    "#X contains all features(X = iris.data): all columns except the last column\n",
    "X = iris.iloc[:,:-1].values\n",
    "print(X)"
   ]
  },
  {
   "cell_type": "code",
   "execution_count": 8,
   "metadata": {},
   "outputs": [
    {
     "name": "stdout",
     "output_type": "stream",
     "text": [
      "0         Iris-setosa\n",
      "1         Iris-setosa\n",
      "2         Iris-setosa\n",
      "3         Iris-setosa\n",
      "4         Iris-setosa\n",
      "            ...      \n",
      "145    Iris-virginica\n",
      "146    Iris-virginica\n",
      "147    Iris-virginica\n",
      "148    Iris-virginica\n",
      "149    Iris-virginica\n",
      "Name: classes, Length: 150, dtype: object\n"
     ]
    }
   ],
   "source": [
    "#y contains labels(y = iris.target): last column of the data frame\n",
    "y = iris.iloc[:,-1]\n",
    "print(y)"
   ]
  },
  {
   "cell_type": "markdown",
   "metadata": {},
   "source": [
    "### Data Visualization"
   ]
  },
  {
   "cell_type": "code",
   "execution_count": 9,
   "metadata": {},
   "outputs": [
    {
     "data": {
      "image/png": "[encoded data removed]",
      "text/plain": [
       "<Figure size 432x288 with 1 Axes>"
      ]
     },
     "metadata": {
      "needs_background": "light"
     },
     "output_type": "display_data"
    }
   ],
   "source": [
    "#relations of each feature with each class\n",
    "plt.xlabel('Features')\n",
    "plt.ylabel('classes')\n",
    "\n",
    "pltX = iris.loc[:,'sepal length']\n",
    "pltY = iris.loc[:,'classes']\n",
    "plt.scatter(pltX, pltY, color='skyblue', label='sepal length')\n",
    "\n",
    "pltX = iris.loc[:,'sepal width']\n",
    "pltY = iris.loc[:,'classes']\n",
    "plt.scatter(pltX, pltY, color='olive', label='sepal width')\n",
    "\n",
    "pltX = iris.loc[:,'petal length']\n",
    "pltY = iris.loc[:,'classes']\n",
    "plt.scatter(pltX, pltY, color='coral', label='petal length')\n",
    "\n",
    "pltX = iris.loc[:,'petal width']\n",
    "pltY = iris.loc[:,'classes']\n",
    "plt.scatter(pltX, pltY, color='orchid', label='petal width')\n",
    "plt.legend(loc=4, prop={'size':8})\n",
    "plt.show()"
   ]
  },
  {
   "cell_type": "code",
   "execution_count": 10,
   "metadata": {},
   "outputs": [],
   "source": [
    "#Split the data into 80% training and 20% testing\n",
    "X_train, X_test, y_train, y_test = train_test_split(X, y, test_size=0.2, random_state=0)\n",
    "#X_train contains the training features\n",
    "#X_test contains the testing features\n",
    "#y_train contains the training label\n",
    "#y_test contains the testing labels"
   ]
  },
  {
   "cell_type": "code",
   "execution_count": 11,
   "metadata": {},
   "outputs": [],
   "source": [
    "#Feature Scaling\n",
    "stdscaler = preprocessing.StandardScaler()\n",
    "X_train = stdscaler.fit_transform(X_train)\n",
    "X_test = stdscaler.transform(X_test)"
   ]
  },
  {
   "cell_type": "code",
   "execution_count": 12,
   "metadata": {},
   "outputs": [
    {
     "name": "stdout",
     "output_type": "stream",
     "text": [
      "train shape (120, 4)\n",
      "validation shape (30, 4)\n",
      "test shape (120,)\n",
      "test shape (30,)\n"
     ]
    }
   ],
   "source": [
    "print(f\"train shape {X_train.shape}\")\n",
    "print(f\"validation shape {X_test.shape}\")\n",
    "print(f\"test shape {y_train.shape}\")\n",
    "print(f\"test shape {y_test.shape}\")"
   ]
  },
  {
   "cell_type": "markdown",
   "metadata": {},
   "source": [
    "### K Nearest Neighbors(KNN)"
   ]
  },
  {
   "cell_type": "code",
   "execution_count": 13,
   "metadata": {},
   "outputs": [],
   "source": [
    "# try n_neighbors from 1 to 3\n",
    "neighbors_settings = range(1, 5)\n",
    "trainingScoreList = []\n",
    "testScoreList = []\n",
    "results = []"
   ]
  },
  {
   "cell_type": "code",
   "execution_count": 14,
   "metadata": {},
   "outputs": [],
   "source": [
    "for k in neighbors_settings:\n",
    "    # build the model\n",
    "    knn = KNeighborsClassifier(n_neighbors=k)\n",
    "    knn.fit(X_train, y_train)\n",
    "    # record training score\n",
    "    acc_knn = round(knn.score(X_train, y_train)*100, 2)\n",
    "    # record test score\n",
    "    testScore = round(knn.score(X_test, y_test)*100, 2)\n",
    "    trainingScoreList.append(acc_knn)\n",
    "    testScoreList.append(testScore)\n",
    "    #Predicting Testing results\n",
    "    y_pred_knn=knn.predict(X_test)\n",
    "    #accuracy\n",
    "    accuracy_knn = round(accuracy_score(y_test, y_pred_knn)*100, 2)\n",
    "    results.append({'k': k,\n",
    "                    'Train Set Score': acc_knn,\n",
    "                    'Test Set Score': testScore,\n",
    "                    'Accuracy': accuracy_knn\n",
    "                               #accuracy_score(y_valid, knn.predict(X_valid))\n",
    "                                })"
   ]
  },
  {
   "cell_type": "code",
   "execution_count": 15,
   "metadata": {},
   "outputs": [
    {
     "name": "stdout",
     "output_type": "stream",
     "text": [
      "   k  Train Set Score  Test Set Score  Accuracy\n",
      "0  1           100.00           93.33     93.33\n",
      "1  2            97.50           96.67     96.67\n",
      "2  3            96.67           96.67     96.67\n",
      "3  4            96.67           96.67     96.67\n"
     ]
    }
   ],
   "source": [
    "# Convert results to a pandas data frame\n",
    "results = pd.DataFrame(results)\n",
    "print(results)"
   ]
  },
  {
   "cell_type": "code",
   "execution_count": 16,
   "metadata": {},
   "outputs": [
    {
     "name": "stdout",
     "output_type": "stream",
     "text": [
      "--- confusion matrix for test set in KNN ---\n",
      "[[11  0  0]\n",
      " [ 0 13  0]\n",
      " [ 0  1  5]]\n"
     ]
    }
   ],
   "source": [
    "#making confusion matrix\n",
    "print('--- confusion matrix for test set in KNN ---')\n",
    "print(confusion_matrix(y_test, y_pred_knn))"
   ]
  },
  {
   "cell_type": "code",
   "execution_count": 17,
   "metadata": {},
   "outputs": [
    {
     "data": {
      "image/png": "[encoded data removed]",
      "text/plain": [
       "<Figure size 432x288 with 1 Axes>"
      ]
     },
     "metadata": {
      "needs_background": "light"
     },
     "output_type": "display_data"
    }
   ],
   "source": [
    "plt.plot(neighbors_settings, trainingScoreList, label=\"training score\")\n",
    "plt.plot(neighbors_settings, testScoreList, label=\"test score\")\n",
    "plt.ylabel(\"Accuracy\")\n",
    "plt.xlabel(\"n_neighbors\")\n",
    "plt.grid()\n",
    "plt.legend()\n",
    "plt.show()"
   ]
  },
  {
   "cell_type": "code",
   "execution_count": 18,
   "metadata": {},
   "outputs": [
    {
     "name": "stdout",
     "output_type": "stream",
     "text": [
      "                 precision    recall  f1-score   support\n",
      "\n",
      "    Iris-setosa       1.00      1.00      1.00        11\n",
      "Iris-versicolor       0.93      1.00      0.96        13\n",
      " Iris-virginica       1.00      0.83      0.91         6\n",
      "\n",
      "       accuracy                           0.97        30\n",
      "      macro avg       0.98      0.94      0.96        30\n",
      "   weighted avg       0.97      0.97      0.97        30\n",
      "\n"
     ]
    }
   ],
   "source": [
    "#check scores\n",
    "print(classification_report(y_test, y_pred_knn))\n",
    "#print('Accuracy score for KNN: %.2f' % accuracy_knn, '%')"
   ]
  },
  {
   "cell_type": "markdown",
   "metadata": {},
   "source": [
    "### Naive Bayes"
   ]
  },
  {
   "cell_type": "code",
   "execution_count": 19,
   "metadata": {},
   "outputs": [
    {
     "data": {
      "text/plain": [
       "GaussianNB()"
      ]
     },
     "execution_count": 19,
     "metadata": {},
     "output_type": "execute_result"
    }
   ],
   "source": [
    "#Training\n",
    "nb = GaussianNB()\n",
    "nb.fit(X_train, y_train)"
   ]
  },
  {
   "cell_type": "code",
   "execution_count": 20,
   "metadata": {},
   "outputs": [],
   "source": [
    "#Predicting Testing results\n",
    "y_pred_nb = nb.predict(X_test)\n",
    "#print(\"Test set predictions:\", y_pred_nb)\n",
    "#print('Predicted Values': y_pred_nb)\n",
    "#print('Real Values(Original Test Set)': y_test)"
   ]
  },
  {
   "cell_type": "code",
   "execution_count": 21,
   "metadata": {},
   "outputs": [
    {
     "data": {
      "text/html": [
       "<div>\n",
       "<style scoped>\n",
       "    .dataframe tbody tr th:only-of-type {\n",
       "        vertical-align: middle;\n",
       "    }\n",
       "\n",
       "    .dataframe tbody tr th {\n",
       "        vertical-align: top;\n",
       "    }\n",
       "\n",
       "    .dataframe thead th {\n",
       "        text-align: right;\n",
       "    }\n",
       "</style>\n",
       "<table border=\"1\" class=\"dataframe\">\n",
       "  <thead>\n",
       "    <tr style=\"text-align: right;\">\n",
       "      <th></th>\n",
       "      <th>Real Values</th>\n",
       "      <th>Predicted Values</th>\n",
       "    </tr>\n",
       "  </thead>\n",
       "  <tbody>\n",
       "    <tr>\n",
       "      <th>114</th>\n",
       "      <td>Iris-virginica</td>\n",
       "      <td>Iris-virginica</td>\n",
       "    </tr>\n",
       "    <tr>\n",
       "      <th>62</th>\n",
       "      <td>Iris-versicolor</td>\n",
       "      <td>Iris-versicolor</td>\n",
       "    </tr>\n",
       "    <tr>\n",
       "      <th>33</th>\n",
       "      <td>Iris-setosa</td>\n",
       "      <td>Iris-setosa</td>\n",
       "    </tr>\n",
       "    <tr>\n",
       "      <th>107</th>\n",
       "      <td>Iris-virginica</td>\n",
       "      <td>Iris-virginica</td>\n",
       "    </tr>\n",
       "    <tr>\n",
       "      <th>7</th>\n",
       "      <td>Iris-setosa</td>\n",
       "      <td>Iris-setosa</td>\n",
       "    </tr>\n",
       "    <tr>\n",
       "      <th>100</th>\n",
       "      <td>Iris-virginica</td>\n",
       "      <td>Iris-virginica</td>\n",
       "    </tr>\n",
       "    <tr>\n",
       "      <th>40</th>\n",
       "      <td>Iris-setosa</td>\n",
       "      <td>Iris-setosa</td>\n",
       "    </tr>\n",
       "    <tr>\n",
       "      <th>86</th>\n",
       "      <td>Iris-versicolor</td>\n",
       "      <td>Iris-versicolor</td>\n",
       "    </tr>\n",
       "    <tr>\n",
       "      <th>76</th>\n",
       "      <td>Iris-versicolor</td>\n",
       "      <td>Iris-versicolor</td>\n",
       "    </tr>\n",
       "    <tr>\n",
       "      <th>71</th>\n",
       "      <td>Iris-versicolor</td>\n",
       "      <td>Iris-versicolor</td>\n",
       "    </tr>\n",
       "    <tr>\n",
       "      <th>134</th>\n",
       "      <td>Iris-virginica</td>\n",
       "      <td>Iris-versicolor</td>\n",
       "    </tr>\n",
       "    <tr>\n",
       "      <th>51</th>\n",
       "      <td>Iris-versicolor</td>\n",
       "      <td>Iris-versicolor</td>\n",
       "    </tr>\n",
       "    <tr>\n",
       "      <th>73</th>\n",
       "      <td>Iris-versicolor</td>\n",
       "      <td>Iris-versicolor</td>\n",
       "    </tr>\n",
       "    <tr>\n",
       "      <th>54</th>\n",
       "      <td>Iris-versicolor</td>\n",
       "      <td>Iris-versicolor</td>\n",
       "    </tr>\n",
       "    <tr>\n",
       "      <th>63</th>\n",
       "      <td>Iris-versicolor</td>\n",
       "      <td>Iris-versicolor</td>\n",
       "    </tr>\n",
       "    <tr>\n",
       "      <th>37</th>\n",
       "      <td>Iris-setosa</td>\n",
       "      <td>Iris-setosa</td>\n",
       "    </tr>\n",
       "    <tr>\n",
       "      <th>78</th>\n",
       "      <td>Iris-versicolor</td>\n",
       "      <td>Iris-versicolor</td>\n",
       "    </tr>\n",
       "    <tr>\n",
       "      <th>90</th>\n",
       "      <td>Iris-versicolor</td>\n",
       "      <td>Iris-versicolor</td>\n",
       "    </tr>\n",
       "    <tr>\n",
       "      <th>45</th>\n",
       "      <td>Iris-setosa</td>\n",
       "      <td>Iris-setosa</td>\n",
       "    </tr>\n",
       "    <tr>\n",
       "      <th>16</th>\n",
       "      <td>Iris-setosa</td>\n",
       "      <td>Iris-setosa</td>\n",
       "    </tr>\n",
       "    <tr>\n",
       "      <th>121</th>\n",
       "      <td>Iris-virginica</td>\n",
       "      <td>Iris-virginica</td>\n",
       "    </tr>\n",
       "    <tr>\n",
       "      <th>66</th>\n",
       "      <td>Iris-versicolor</td>\n",
       "      <td>Iris-versicolor</td>\n",
       "    </tr>\n",
       "    <tr>\n",
       "      <th>24</th>\n",
       "      <td>Iris-setosa</td>\n",
       "      <td>Iris-setosa</td>\n",
       "    </tr>\n",
       "    <tr>\n",
       "      <th>8</th>\n",
       "      <td>Iris-setosa</td>\n",
       "      <td>Iris-setosa</td>\n",
       "    </tr>\n",
       "    <tr>\n",
       "      <th>126</th>\n",
       "      <td>Iris-virginica</td>\n",
       "      <td>Iris-virginica</td>\n",
       "    </tr>\n",
       "    <tr>\n",
       "      <th>22</th>\n",
       "      <td>Iris-setosa</td>\n",
       "      <td>Iris-setosa</td>\n",
       "    </tr>\n",
       "    <tr>\n",
       "      <th>44</th>\n",
       "      <td>Iris-setosa</td>\n",
       "      <td>Iris-setosa</td>\n",
       "    </tr>\n",
       "    <tr>\n",
       "      <th>97</th>\n",
       "      <td>Iris-versicolor</td>\n",
       "      <td>Iris-versicolor</td>\n",
       "    </tr>\n",
       "    <tr>\n",
       "      <th>93</th>\n",
       "      <td>Iris-versicolor</td>\n",
       "      <td>Iris-versicolor</td>\n",
       "    </tr>\n",
       "    <tr>\n",
       "      <th>26</th>\n",
       "      <td>Iris-setosa</td>\n",
       "      <td>Iris-setosa</td>\n",
       "    </tr>\n",
       "  </tbody>\n",
       "</table>\n",
       "</div>"
      ],
      "text/plain": [
       "         Real Values Predicted Values\n",
       "114   Iris-virginica   Iris-virginica\n",
       "62   Iris-versicolor  Iris-versicolor\n",
       "33       Iris-setosa      Iris-setosa\n",
       "107   Iris-virginica   Iris-virginica\n",
       "7        Iris-setosa      Iris-setosa\n",
       "100   Iris-virginica   Iris-virginica\n",
       "40       Iris-setosa      Iris-setosa\n",
       "86   Iris-versicolor  Iris-versicolor\n",
       "76   Iris-versicolor  Iris-versicolor\n",
       "71   Iris-versicolor  Iris-versicolor\n",
       "134   Iris-virginica  Iris-versicolor\n",
       "51   Iris-versicolor  Iris-versicolor\n",
       "73   Iris-versicolor  Iris-versicolor\n",
       "54   Iris-versicolor  Iris-versicolor\n",
       "63   Iris-versicolor  Iris-versicolor\n",
       "37       Iris-setosa      Iris-setosa\n",
       "78   Iris-versicolor  Iris-versicolor\n",
       "90   Iris-versicolor  Iris-versicolor\n",
       "45       Iris-setosa      Iris-setosa\n",
       "16       Iris-setosa      Iris-setosa\n",
       "121   Iris-virginica   Iris-virginica\n",
       "66   Iris-versicolor  Iris-versicolor\n",
       "24       Iris-setosa      Iris-setosa\n",
       "8        Iris-setosa      Iris-setosa\n",
       "126   Iris-virginica   Iris-virginica\n",
       "22       Iris-setosa      Iris-setosa\n",
       "44       Iris-setosa      Iris-setosa\n",
       "97   Iris-versicolor  Iris-versicolor\n",
       "93   Iris-versicolor  Iris-versicolor\n",
       "26       Iris-setosa      Iris-setosa"
      ]
     },
     "execution_count": 21,
     "metadata": {},
     "output_type": "execute_result"
    }
   ],
   "source": [
    "pred_NB = pd.DataFrame({ 'Real Values':  y_test, \n",
    "                        'Predicted Values': y_pred_nb})\n",
    "pred_NB"
   ]
  },
  {
   "cell_type": "code",
   "execution_count": 22,
   "metadata": {},
   "outputs": [
    {
     "name": "stdout",
     "output_type": "stream",
     "text": [
      "--- confusion matrix for test set in Naive Bayes ---\n",
      "[[11  0  0]\n",
      " [ 0 13  0]\n",
      " [ 0  1  5]]\n"
     ]
    }
   ],
   "source": [
    "#making confusion matrix: check the accuracy of the predicted value in regression\n",
    "print('--- confusion matrix for test set in Naive Bayes ---')\n",
    "print(confusion_matrix(y_test, y_pred_nb))"
   ]
  },
  {
   "cell_type": "code",
   "execution_count": 23,
   "metadata": {},
   "outputs": [],
   "source": [
    "acc_gaussian = round(nb.score(X_train, y_train)*100, 2)\n",
    "#print(\"Test set accuracy: {:.2f}\".format(nb.score(X_test, y_test)))"
   ]
  },
  {
   "cell_type": "code",
   "execution_count": 24,
   "metadata": {},
   "outputs": [
    {
     "name": "stdout",
     "output_type": "stream",
     "text": [
      "                 precision    recall  f1-score   support\n",
      "\n",
      "    Iris-setosa       1.00      1.00      1.00        11\n",
      "Iris-versicolor       0.93      1.00      0.96        13\n",
      " Iris-virginica       1.00      0.83      0.91         6\n",
      "\n",
      "       accuracy                           0.97        30\n",
      "      macro avg       0.98      0.94      0.96        30\n",
      "   weighted avg       0.97      0.97      0.97        30\n",
      "\n"
     ]
    }
   ],
   "source": [
    "#check scores\n",
    "print(classification_report(y_test, y_pred_nb))\n",
    "accuracy_nb = round(accuracy_score(y_test, y_pred_nb)*100, 2)\n",
    "#print('Accuracy score for Naive Bayes: %.2f' % accuracy_nb, '%')"
   ]
  },
  {
   "cell_type": "markdown",
   "metadata": {},
   "source": [
    "### Logistic Regression"
   ]
  },
  {
   "cell_type": "code",
   "execution_count": 25,
   "metadata": {},
   "outputs": [
    {
     "data": {
      "text/plain": [
       "LogisticRegression(random_state=0)"
      ]
     },
     "execution_count": 25,
     "metadata": {},
     "output_type": "execute_result"
    }
   ],
   "source": [
    "#Training\n",
    "logistic = LogisticRegression(random_state=0, solver = 'lbfgs', multi_class = 'auto')\n",
    "logistic.fit(X_train, y_train)"
   ]
  },
  {
   "cell_type": "code",
   "execution_count": 26,
   "metadata": {},
   "outputs": [],
   "source": [
    "#Predicting Testing results\n",
    "y_pred_logistic = logistic.predict(X_test)\n",
    "#print('Predicted Values': y_pred_logistic)\n",
    "#print('Real Values(Original Test Set)': y_test)"
   ]
  },
  {
   "cell_type": "code",
   "execution_count": 27,
   "metadata": {},
   "outputs": [],
   "source": [
    "#Predicting probabilities\n",
    "y_probs = logistic.predict_proba(X_test)\n",
    "y_probs = np.round(y_probs,2)"
   ]
  },
  {
   "cell_type": "code",
   "execution_count": 28,
   "metadata": {},
   "outputs": [
    {
     "name": "stdout",
     "output_type": "stream",
     "text": [
      "--- confusion matrix for test set in Logistic Regression ---\n",
      "[[11  0  0]\n",
      " [ 0 13  0]\n",
      " [ 0  0  6]]\n"
     ]
    }
   ],
   "source": [
    "#making confusion matrix\n",
    "print('--- confusion matrix for test set in Logistic Regression ---')\n",
    "print(confusion_matrix(y_test, y_pred_logistic))"
   ]
  },
  {
   "cell_type": "code",
   "execution_count": 29,
   "metadata": {},
   "outputs": [],
   "source": [
    "acc_log = round(logistic.score(X_train, y_train)*100, 2)\n",
    "test_log = round(logistic.score(X_test, y_test)*100, 2)"
   ]
  },
  {
   "cell_type": "code",
   "execution_count": 30,
   "metadata": {},
   "outputs": [
    {
     "data": {
      "text/html": [
       "<div>\n",
       "<style scoped>\n",
       "    .dataframe tbody tr th:only-of-type {\n",
       "        vertical-align: middle;\n",
       "    }\n",
       "\n",
       "    .dataframe tbody tr th {\n",
       "        vertical-align: top;\n",
       "    }\n",
       "\n",
       "    .dataframe thead th {\n",
       "        text-align: right;\n",
       "    }\n",
       "</style>\n",
       "<table border=\"1\" class=\"dataframe\">\n",
       "  <thead>\n",
       "    <tr style=\"text-align: right;\">\n",
       "      <th></th>\n",
       "      <th>y_test</th>\n",
       "      <th>y_pred</th>\n",
       "      <th>Setosa(%)</th>\n",
       "      <th>versicolor(%)</th>\n",
       "      <th>virginica(%)</th>\n",
       "      <th>Train Set Score</th>\n",
       "      <th>Test Set Score</th>\n",
       "    </tr>\n",
       "  </thead>\n",
       "  <tbody>\n",
       "    <tr>\n",
       "      <th>114</th>\n",
       "      <td>Iris-virginica</td>\n",
       "      <td>Iris-virginica</td>\n",
       "      <td>0.00</td>\n",
       "      <td>0.03</td>\n",
       "      <td>0.97</td>\n",
       "      <td>95.83</td>\n",
       "      <td>100.0</td>\n",
       "    </tr>\n",
       "    <tr>\n",
       "      <th>62</th>\n",
       "      <td>Iris-versicolor</td>\n",
       "      <td>Iris-versicolor</td>\n",
       "      <td>0.01</td>\n",
       "      <td>0.96</td>\n",
       "      <td>0.04</td>\n",
       "      <td>95.83</td>\n",
       "      <td>100.0</td>\n",
       "    </tr>\n",
       "    <tr>\n",
       "      <th>33</th>\n",
       "      <td>Iris-setosa</td>\n",
       "      <td>Iris-setosa</td>\n",
       "      <td>1.00</td>\n",
       "      <td>0.00</td>\n",
       "      <td>0.00</td>\n",
       "      <td>95.83</td>\n",
       "      <td>100.0</td>\n",
       "    </tr>\n",
       "    <tr>\n",
       "      <th>107</th>\n",
       "      <td>Iris-virginica</td>\n",
       "      <td>Iris-virginica</td>\n",
       "      <td>0.00</td>\n",
       "      <td>0.08</td>\n",
       "      <td>0.92</td>\n",
       "      <td>95.83</td>\n",
       "      <td>100.0</td>\n",
       "    </tr>\n",
       "    <tr>\n",
       "      <th>7</th>\n",
       "      <td>Iris-setosa</td>\n",
       "      <td>Iris-setosa</td>\n",
       "      <td>0.98</td>\n",
       "      <td>0.02</td>\n",
       "      <td>0.00</td>\n",
       "      <td>95.83</td>\n",
       "      <td>100.0</td>\n",
       "    </tr>\n",
       "    <tr>\n",
       "      <th>100</th>\n",
       "      <td>Iris-virginica</td>\n",
       "      <td>Iris-virginica</td>\n",
       "      <td>0.00</td>\n",
       "      <td>0.01</td>\n",
       "      <td>0.99</td>\n",
       "      <td>95.83</td>\n",
       "      <td>100.0</td>\n",
       "    </tr>\n",
       "    <tr>\n",
       "      <th>40</th>\n",
       "      <td>Iris-setosa</td>\n",
       "      <td>Iris-setosa</td>\n",
       "      <td>0.98</td>\n",
       "      <td>0.02</td>\n",
       "      <td>0.00</td>\n",
       "      <td>95.83</td>\n",
       "      <td>100.0</td>\n",
       "    </tr>\n",
       "    <tr>\n",
       "      <th>86</th>\n",
       "      <td>Iris-versicolor</td>\n",
       "      <td>Iris-versicolor</td>\n",
       "      <td>0.01</td>\n",
       "      <td>0.71</td>\n",
       "      <td>0.28</td>\n",
       "      <td>95.83</td>\n",
       "      <td>100.0</td>\n",
       "    </tr>\n",
       "    <tr>\n",
       "      <th>76</th>\n",
       "      <td>Iris-versicolor</td>\n",
       "      <td>Iris-versicolor</td>\n",
       "      <td>0.00</td>\n",
       "      <td>0.73</td>\n",
       "      <td>0.27</td>\n",
       "      <td>95.83</td>\n",
       "      <td>100.0</td>\n",
       "    </tr>\n",
       "    <tr>\n",
       "      <th>71</th>\n",
       "      <td>Iris-versicolor</td>\n",
       "      <td>Iris-versicolor</td>\n",
       "      <td>0.02</td>\n",
       "      <td>0.90</td>\n",
       "      <td>0.08</td>\n",
       "      <td>95.83</td>\n",
       "      <td>100.0</td>\n",
       "    </tr>\n",
       "    <tr>\n",
       "      <th>134</th>\n",
       "      <td>Iris-virginica</td>\n",
       "      <td>Iris-virginica</td>\n",
       "      <td>0.00</td>\n",
       "      <td>0.48</td>\n",
       "      <td>0.52</td>\n",
       "      <td>95.83</td>\n",
       "      <td>100.0</td>\n",
       "    </tr>\n",
       "    <tr>\n",
       "      <th>51</th>\n",
       "      <td>Iris-versicolor</td>\n",
       "      <td>Iris-versicolor</td>\n",
       "      <td>0.02</td>\n",
       "      <td>0.76</td>\n",
       "      <td>0.22</td>\n",
       "      <td>95.83</td>\n",
       "      <td>100.0</td>\n",
       "    </tr>\n",
       "    <tr>\n",
       "      <th>73</th>\n",
       "      <td>Iris-versicolor</td>\n",
       "      <td>Iris-versicolor</td>\n",
       "      <td>0.01</td>\n",
       "      <td>0.87</td>\n",
       "      <td>0.12</td>\n",
       "      <td>95.83</td>\n",
       "      <td>100.0</td>\n",
       "    </tr>\n",
       "    <tr>\n",
       "      <th>54</th>\n",
       "      <td>Iris-versicolor</td>\n",
       "      <td>Iris-versicolor</td>\n",
       "      <td>0.00</td>\n",
       "      <td>0.70</td>\n",
       "      <td>0.30</td>\n",
       "      <td>95.83</td>\n",
       "      <td>100.0</td>\n",
       "    </tr>\n",
       "    <tr>\n",
       "      <th>63</th>\n",
       "      <td>Iris-versicolor</td>\n",
       "      <td>Iris-versicolor</td>\n",
       "      <td>0.01</td>\n",
       "      <td>0.77</td>\n",
       "      <td>0.22</td>\n",
       "      <td>95.83</td>\n",
       "      <td>100.0</td>\n",
       "    </tr>\n",
       "    <tr>\n",
       "      <th>37</th>\n",
       "      <td>Iris-setosa</td>\n",
       "      <td>Iris-setosa</td>\n",
       "      <td>0.99</td>\n",
       "      <td>0.01</td>\n",
       "      <td>0.00</td>\n",
       "      <td>95.83</td>\n",
       "      <td>100.0</td>\n",
       "    </tr>\n",
       "    <tr>\n",
       "      <th>78</th>\n",
       "      <td>Iris-versicolor</td>\n",
       "      <td>Iris-versicolor</td>\n",
       "      <td>0.01</td>\n",
       "      <td>0.74</td>\n",
       "      <td>0.25</td>\n",
       "      <td>95.83</td>\n",
       "      <td>100.0</td>\n",
       "    </tr>\n",
       "    <tr>\n",
       "      <th>90</th>\n",
       "      <td>Iris-versicolor</td>\n",
       "      <td>Iris-versicolor</td>\n",
       "      <td>0.02</td>\n",
       "      <td>0.89</td>\n",
       "      <td>0.09</td>\n",
       "      <td>95.83</td>\n",
       "      <td>100.0</td>\n",
       "    </tr>\n",
       "    <tr>\n",
       "      <th>45</th>\n",
       "      <td>Iris-setosa</td>\n",
       "      <td>Iris-setosa</td>\n",
       "      <td>0.94</td>\n",
       "      <td>0.06</td>\n",
       "      <td>0.00</td>\n",
       "      <td>95.83</td>\n",
       "      <td>100.0</td>\n",
       "    </tr>\n",
       "    <tr>\n",
       "      <th>16</th>\n",
       "      <td>Iris-setosa</td>\n",
       "      <td>Iris-setosa</td>\n",
       "      <td>0.99</td>\n",
       "      <td>0.01</td>\n",
       "      <td>0.00</td>\n",
       "      <td>95.83</td>\n",
       "      <td>100.0</td>\n",
       "    </tr>\n",
       "    <tr>\n",
       "      <th>121</th>\n",
       "      <td>Iris-virginica</td>\n",
       "      <td>Iris-virginica</td>\n",
       "      <td>0.00</td>\n",
       "      <td>0.18</td>\n",
       "      <td>0.82</td>\n",
       "      <td>95.83</td>\n",
       "      <td>100.0</td>\n",
       "    </tr>\n",
       "    <tr>\n",
       "      <th>66</th>\n",
       "      <td>Iris-versicolor</td>\n",
       "      <td>Iris-versicolor</td>\n",
       "      <td>0.04</td>\n",
       "      <td>0.74</td>\n",
       "      <td>0.22</td>\n",
       "      <td>95.83</td>\n",
       "      <td>100.0</td>\n",
       "    </tr>\n",
       "    <tr>\n",
       "      <th>24</th>\n",
       "      <td>Iris-setosa</td>\n",
       "      <td>Iris-setosa</td>\n",
       "      <td>0.98</td>\n",
       "      <td>0.02</td>\n",
       "      <td>0.00</td>\n",
       "      <td>95.83</td>\n",
       "      <td>100.0</td>\n",
       "    </tr>\n",
       "    <tr>\n",
       "      <th>8</th>\n",
       "      <td>Iris-setosa</td>\n",
       "      <td>Iris-setosa</td>\n",
       "      <td>0.96</td>\n",
       "      <td>0.04</td>\n",
       "      <td>0.00</td>\n",
       "      <td>95.83</td>\n",
       "      <td>100.0</td>\n",
       "    </tr>\n",
       "    <tr>\n",
       "      <th>126</th>\n",
       "      <td>Iris-virginica</td>\n",
       "      <td>Iris-virginica</td>\n",
       "      <td>0.00</td>\n",
       "      <td>0.35</td>\n",
       "      <td>0.65</td>\n",
       "      <td>95.83</td>\n",
       "      <td>100.0</td>\n",
       "    </tr>\n",
       "    <tr>\n",
       "      <th>22</th>\n",
       "      <td>Iris-setosa</td>\n",
       "      <td>Iris-setosa</td>\n",
       "      <td>1.00</td>\n",
       "      <td>0.00</td>\n",
       "      <td>0.00</td>\n",
       "      <td>95.83</td>\n",
       "      <td>100.0</td>\n",
       "    </tr>\n",
       "    <tr>\n",
       "      <th>44</th>\n",
       "      <td>Iris-setosa</td>\n",
       "      <td>Iris-setosa</td>\n",
       "      <td>0.99</td>\n",
       "      <td>0.01</td>\n",
       "      <td>0.00</td>\n",
       "      <td>95.83</td>\n",
       "      <td>100.0</td>\n",
       "    </tr>\n",
       "    <tr>\n",
       "      <th>97</th>\n",
       "      <td>Iris-versicolor</td>\n",
       "      <td>Iris-versicolor</td>\n",
       "      <td>0.02</td>\n",
       "      <td>0.88</td>\n",
       "      <td>0.10</td>\n",
       "      <td>95.83</td>\n",
       "      <td>100.0</td>\n",
       "    </tr>\n",
       "    <tr>\n",
       "      <th>93</th>\n",
       "      <td>Iris-versicolor</td>\n",
       "      <td>Iris-versicolor</td>\n",
       "      <td>0.08</td>\n",
       "      <td>0.91</td>\n",
       "      <td>0.01</td>\n",
       "      <td>95.83</td>\n",
       "      <td>100.0</td>\n",
       "    </tr>\n",
       "    <tr>\n",
       "      <th>26</th>\n",
       "      <td>Iris-setosa</td>\n",
       "      <td>Iris-setosa</td>\n",
       "      <td>0.97</td>\n",
       "      <td>0.03</td>\n",
       "      <td>0.00</td>\n",
       "      <td>95.83</td>\n",
       "      <td>100.0</td>\n",
       "    </tr>\n",
       "  </tbody>\n",
       "</table>\n",
       "</div>"
      ],
      "text/plain": [
       "              y_test           y_pred  Setosa(%)  versicolor(%)  virginica(%)  \\\n",
       "114   Iris-virginica   Iris-virginica       0.00           0.03          0.97   \n",
       "62   Iris-versicolor  Iris-versicolor       0.01           0.96          0.04   \n",
       "33       Iris-setosa      Iris-setosa       1.00           0.00          0.00   \n",
       "107   Iris-virginica   Iris-virginica       0.00           0.08          0.92   \n",
       "7        Iris-setosa      Iris-setosa       0.98           0.02          0.00   \n",
       "100   Iris-virginica   Iris-virginica       0.00           0.01          0.99   \n",
       "40       Iris-setosa      Iris-setosa       0.98           0.02          0.00   \n",
       "86   Iris-versicolor  Iris-versicolor       0.01           0.71          0.28   \n",
       "76   Iris-versicolor  Iris-versicolor       0.00           0.73          0.27   \n",
       "71   Iris-versicolor  Iris-versicolor       0.02           0.90          0.08   \n",
       "134   Iris-virginica   Iris-virginica       0.00           0.48          0.52   \n",
       "51   Iris-versicolor  Iris-versicolor       0.02           0.76          0.22   \n",
       "73   Iris-versicolor  Iris-versicolor       0.01           0.87          0.12   \n",
       "54   Iris-versicolor  Iris-versicolor       0.00           0.70          0.30   \n",
       "63   Iris-versicolor  Iris-versicolor       0.01           0.77          0.22   \n",
       "37       Iris-setosa      Iris-setosa       0.99           0.01          0.00   \n",
       "78   Iris-versicolor  Iris-versicolor       0.01           0.74          0.25   \n",
       "90   Iris-versicolor  Iris-versicolor       0.02           0.89          0.09   \n",
       "45       Iris-setosa      Iris-setosa       0.94           0.06          0.00   \n",
       "16       Iris-setosa      Iris-setosa       0.99           0.01          0.00   \n",
       "121   Iris-virginica   Iris-virginica       0.00           0.18          0.82   \n",
       "66   Iris-versicolor  Iris-versicolor       0.04           0.74          0.22   \n",
       "24       Iris-setosa      Iris-setosa       0.98           0.02          0.00   \n",
       "8        Iris-setosa      Iris-setosa       0.96           0.04          0.00   \n",
       "126   Iris-virginica   Iris-virginica       0.00           0.35          0.65   \n",
       "22       Iris-setosa      Iris-setosa       1.00           0.00          0.00   \n",
       "44       Iris-setosa      Iris-setosa       0.99           0.01          0.00   \n",
       "97   Iris-versicolor  Iris-versicolor       0.02           0.88          0.10   \n",
       "93   Iris-versicolor  Iris-versicolor       0.08           0.91          0.01   \n",
       "26       Iris-setosa      Iris-setosa       0.97           0.03          0.00   \n",
       "\n",
       "     Train Set Score  Test Set Score  \n",
       "114            95.83           100.0  \n",
       "62             95.83           100.0  \n",
       "33             95.83           100.0  \n",
       "107            95.83           100.0  \n",
       "7              95.83           100.0  \n",
       "100            95.83           100.0  \n",
       "40             95.83           100.0  \n",
       "86             95.83           100.0  \n",
       "76             95.83           100.0  \n",
       "71             95.83           100.0  \n",
       "134            95.83           100.0  \n",
       "51             95.83           100.0  \n",
       "73             95.83           100.0  \n",
       "54             95.83           100.0  \n",
       "63             95.83           100.0  \n",
       "37             95.83           100.0  \n",
       "78             95.83           100.0  \n",
       "90             95.83           100.0  \n",
       "45             95.83           100.0  \n",
       "16             95.83           100.0  \n",
       "121            95.83           100.0  \n",
       "66             95.83           100.0  \n",
       "24             95.83           100.0  \n",
       "8              95.83           100.0  \n",
       "126            95.83           100.0  \n",
       "22             95.83           100.0  \n",
       "44             95.83           100.0  \n",
       "97             95.83           100.0  \n",
       "93             95.83           100.0  \n",
       "26             95.83           100.0  "
      ]
     },
     "metadata": {},
     "output_type": "display_data"
    }
   ],
   "source": [
    "results3 = pd.DataFrame( {'y_test': y_test,\n",
    "                          'y_pred': y_pred_logistic,\n",
    "                          'Setosa(%)': y_probs[:,0],\n",
    "                          'versicolor(%)': y_probs[:,1],\n",
    "                          'virginica(%)': y_probs[:,2],\n",
    "                          'Train Set Score': acc_log,\n",
    "                          'Test Set Score': test_log})\n",
    "display(results3)"
   ]
  },
  {
   "cell_type": "code",
   "execution_count": 31,
   "metadata": {},
   "outputs": [
    {
     "name": "stdout",
     "output_type": "stream",
     "text": [
      "                 precision    recall  f1-score   support\n",
      "\n",
      "    Iris-setosa       1.00      1.00      1.00        11\n",
      "Iris-versicolor       1.00      1.00      1.00        13\n",
      " Iris-virginica       1.00      1.00      1.00         6\n",
      "\n",
      "       accuracy                           1.00        30\n",
      "      macro avg       1.00      1.00      1.00        30\n",
      "   weighted avg       1.00      1.00      1.00        30\n",
      "\n"
     ]
    }
   ],
   "source": [
    "#check scores\n",
    "print(classification_report(y_test, y_pred_logistic))\n",
    "accuracy_log = round(accuracy_score(y_test, y_pred_logistic)*100, 2)\n",
    "#print('Accuracy score for Logistic Regression: %.2f' % accuracy_log, '%')"
   ]
  },
  {
   "cell_type": "markdown",
   "metadata": {},
   "source": [
    "**Scores ranking**"
   ]
  },
  {
   "cell_type": "code",
   "execution_count": 32,
   "metadata": {},
   "outputs": [
    {
     "data": {
      "text/html": [
       "<div>\n",
       "<style scoped>\n",
       "    .dataframe tbody tr th:only-of-type {\n",
       "        vertical-align: middle;\n",
       "    }\n",
       "\n",
       "    .dataframe tbody tr th {\n",
       "        vertical-align: top;\n",
       "    }\n",
       "\n",
       "    .dataframe thead th {\n",
       "        text-align: right;\n",
       "    }\n",
       "</style>\n",
       "<table border=\"1\" class=\"dataframe\">\n",
       "  <thead>\n",
       "    <tr style=\"text-align: right;\">\n",
       "      <th></th>\n",
       "      <th>Models</th>\n",
       "      <th>Score</th>\n",
       "      <th>Accuracy Score</th>\n",
       "    </tr>\n",
       "  </thead>\n",
       "  <tbody>\n",
       "    <tr>\n",
       "      <th>0</th>\n",
       "      <td>Logistic Regression</td>\n",
       "      <td>95.83</td>\n",
       "      <td>100.00</td>\n",
       "    </tr>\n",
       "    <tr>\n",
       "      <th>1</th>\n",
       "      <td>KNN</td>\n",
       "      <td>96.67</td>\n",
       "      <td>96.67</td>\n",
       "    </tr>\n",
       "    <tr>\n",
       "      <th>2</th>\n",
       "      <td>Naive Bayes</td>\n",
       "      <td>95.00</td>\n",
       "      <td>96.67</td>\n",
       "    </tr>\n",
       "  </tbody>\n",
       "</table>\n",
       "</div>"
      ],
      "text/plain": [
       "                Models  Score  Accuracy Score\n",
       "0  Logistic Regression  95.83          100.00\n",
       "1                  KNN  96.67           96.67\n",
       "2          Naive Bayes  95.00           96.67"
      ]
     },
     "metadata": {},
     "output_type": "display_data"
    }
   ],
   "source": [
    "results_compare = pd.DataFrame({ 'Models': ['KNN', 'Naive Bayes', 'Logistic Regression'], \n",
    "                        'Score': [acc_knn, acc_gaussian, acc_log], \n",
    "                        \"Accuracy Score\":[accuracy_knn, accuracy_nb, accuracy_log]})\n",
    "\n",
    "result_compare = results_compare.sort_values(by='Accuracy Score', ascending=False)\n",
    "result_compare = result_compare.reset_index(drop=True)\n",
    "display(result_compare)"
   ]
  },
  {
   "cell_type": "code",
   "execution_count": 33,
   "metadata": {},
   "outputs": [
    {
     "data": {
      "image/png": "[encoded data removed]",
      "text/plain": [
       "<Figure size 864x576 with 1 Axes>"
      ]
     },
     "metadata": {
      "needs_background": "light"
     },
     "output_type": "display_data"
    }
   ],
   "source": [
    "#make a plot\n",
    "plt.subplots(figsize=(12,8))\n",
    "ax=sns.barplot(x='Models',y=\"Accuracy Score\", data = results_compare)\n",
    "labels = (results_compare[\"Accuracy Score\"])# add result numbers on barchart\n",
    "for i, v in enumerate(labels): \n",
    "    ax.text(i, v+1, str(v), horizontalalignment = 'center', size = 15, color = 'black')"
   ]
  },
  {
   "cell_type": "markdown",
   "metadata": {},
   "source": [
    "**Observations**\n",
    "\n",
    "As we see the best model is given by Logistic Regression(100% Accuracy) and followed by KNN and Naive Bayes."
   ]
  },
  {
   "cell_type": "markdown",
   "metadata": {},
   "source": [
    "## Exercise 2"
   ]
  },
  {
   "cell_type": "code",
   "execution_count": 34,
   "metadata": {},
   "outputs": [],
   "source": [
    "hour_raw = pd.read_csv('C:\\\\Users\\\\14830\\\\Downloads\\\\hour.csv')\n",
    "day_raw = pd.read_csv('C:\\\\Users\\\\14830\\\\Downloads\\\\day.csv')"
   ]
  },
  {
   "cell_type": "code",
   "execution_count": 35,
   "metadata": {},
   "outputs": [
    {
     "data": {
      "text/html": [
       "<div>\n",
       "<style scoped>\n",
       "    .dataframe tbody tr th:only-of-type {\n",
       "        vertical-align: middle;\n",
       "    }\n",
       "\n",
       "    .dataframe tbody tr th {\n",
       "        vertical-align: top;\n",
       "    }\n",
       "\n",
       "    .dataframe thead th {\n",
       "        text-align: right;\n",
       "    }\n",
       "</style>\n",
       "<table border=\"1\" class=\"dataframe\">\n",
       "  <thead>\n",
       "    <tr style=\"text-align: right;\">\n",
       "      <th></th>\n",
       "      <th>instant</th>\n",
       "      <th>dteday</th>\n",
       "      <th>season</th>\n",
       "      <th>yr</th>\n",
       "      <th>mnth</th>\n",
       "      <th>hr</th>\n",
       "      <th>holiday</th>\n",
       "      <th>weekday</th>\n",
       "      <th>workingday</th>\n",
       "      <th>weathersit</th>\n",
       "      <th>temp</th>\n",
       "      <th>atemp</th>\n",
       "      <th>hum</th>\n",
       "      <th>windspeed</th>\n",
       "      <th>casual</th>\n",
       "      <th>registered</th>\n",
       "      <th>cnt</th>\n",
       "    </tr>\n",
       "  </thead>\n",
       "  <tbody>\n",
       "    <tr>\n",
       "      <th>0</th>\n",
       "      <td>1</td>\n",
       "      <td>2011-01-01</td>\n",
       "      <td>1</td>\n",
       "      <td>0</td>\n",
       "      <td>1</td>\n",
       "      <td>0</td>\n",
       "      <td>0</td>\n",
       "      <td>6</td>\n",
       "      <td>0</td>\n",
       "      <td>1</td>\n",
       "      <td>0.24</td>\n",
       "      <td>0.2879</td>\n",
       "      <td>0.81</td>\n",
       "      <td>0.0000</td>\n",
       "      <td>3</td>\n",
       "      <td>13</td>\n",
       "      <td>16</td>\n",
       "    </tr>\n",
       "    <tr>\n",
       "      <th>1</th>\n",
       "      <td>2</td>\n",
       "      <td>2011-01-01</td>\n",
       "      <td>1</td>\n",
       "      <td>0</td>\n",
       "      <td>1</td>\n",
       "      <td>1</td>\n",
       "      <td>0</td>\n",
       "      <td>6</td>\n",
       "      <td>0</td>\n",
       "      <td>1</td>\n",
       "      <td>0.22</td>\n",
       "      <td>0.2727</td>\n",
       "      <td>0.80</td>\n",
       "      <td>0.0000</td>\n",
       "      <td>8</td>\n",
       "      <td>32</td>\n",
       "      <td>40</td>\n",
       "    </tr>\n",
       "    <tr>\n",
       "      <th>2</th>\n",
       "      <td>3</td>\n",
       "      <td>2011-01-01</td>\n",
       "      <td>1</td>\n",
       "      <td>0</td>\n",
       "      <td>1</td>\n",
       "      <td>2</td>\n",
       "      <td>0</td>\n",
       "      <td>6</td>\n",
       "      <td>0</td>\n",
       "      <td>1</td>\n",
       "      <td>0.22</td>\n",
       "      <td>0.2727</td>\n",
       "      <td>0.80</td>\n",
       "      <td>0.0000</td>\n",
       "      <td>5</td>\n",
       "      <td>27</td>\n",
       "      <td>32</td>\n",
       "    </tr>\n",
       "    <tr>\n",
       "      <th>3</th>\n",
       "      <td>4</td>\n",
       "      <td>2011-01-01</td>\n",
       "      <td>1</td>\n",
       "      <td>0</td>\n",
       "      <td>1</td>\n",
       "      <td>3</td>\n",
       "      <td>0</td>\n",
       "      <td>6</td>\n",
       "      <td>0</td>\n",
       "      <td>1</td>\n",
       "      <td>0.24</td>\n",
       "      <td>0.2879</td>\n",
       "      <td>0.75</td>\n",
       "      <td>0.0000</td>\n",
       "      <td>3</td>\n",
       "      <td>10</td>\n",
       "      <td>13</td>\n",
       "    </tr>\n",
       "    <tr>\n",
       "      <th>4</th>\n",
       "      <td>5</td>\n",
       "      <td>2011-01-01</td>\n",
       "      <td>1</td>\n",
       "      <td>0</td>\n",
       "      <td>1</td>\n",
       "      <td>4</td>\n",
       "      <td>0</td>\n",
       "      <td>6</td>\n",
       "      <td>0</td>\n",
       "      <td>1</td>\n",
       "      <td>0.24</td>\n",
       "      <td>0.2879</td>\n",
       "      <td>0.75</td>\n",
       "      <td>0.0000</td>\n",
       "      <td>0</td>\n",
       "      <td>1</td>\n",
       "      <td>1</td>\n",
       "    </tr>\n",
       "    <tr>\n",
       "      <th>...</th>\n",
       "      <td>...</td>\n",
       "      <td>...</td>\n",
       "      <td>...</td>\n",
       "      <td>...</td>\n",
       "      <td>...</td>\n",
       "      <td>...</td>\n",
       "      <td>...</td>\n",
       "      <td>...</td>\n",
       "      <td>...</td>\n",
       "      <td>...</td>\n",
       "      <td>...</td>\n",
       "      <td>...</td>\n",
       "      <td>...</td>\n",
       "      <td>...</td>\n",
       "      <td>...</td>\n",
       "      <td>...</td>\n",
       "      <td>...</td>\n",
       "    </tr>\n",
       "    <tr>\n",
       "      <th>17374</th>\n",
       "      <td>17375</td>\n",
       "      <td>2012-12-31</td>\n",
       "      <td>1</td>\n",
       "      <td>1</td>\n",
       "      <td>12</td>\n",
       "      <td>19</td>\n",
       "      <td>0</td>\n",
       "      <td>1</td>\n",
       "      <td>1</td>\n",
       "      <td>2</td>\n",
       "      <td>0.26</td>\n",
       "      <td>0.2576</td>\n",
       "      <td>0.60</td>\n",
       "      <td>0.1642</td>\n",
       "      <td>11</td>\n",
       "      <td>108</td>\n",
       "      <td>119</td>\n",
       "    </tr>\n",
       "    <tr>\n",
       "      <th>17375</th>\n",
       "      <td>17376</td>\n",
       "      <td>2012-12-31</td>\n",
       "      <td>1</td>\n",
       "      <td>1</td>\n",
       "      <td>12</td>\n",
       "      <td>20</td>\n",
       "      <td>0</td>\n",
       "      <td>1</td>\n",
       "      <td>1</td>\n",
       "      <td>2</td>\n",
       "      <td>0.26</td>\n",
       "      <td>0.2576</td>\n",
       "      <td>0.60</td>\n",
       "      <td>0.1642</td>\n",
       "      <td>8</td>\n",
       "      <td>81</td>\n",
       "      <td>89</td>\n",
       "    </tr>\n",
       "    <tr>\n",
       "      <th>17376</th>\n",
       "      <td>17377</td>\n",
       "      <td>2012-12-31</td>\n",
       "      <td>1</td>\n",
       "      <td>1</td>\n",
       "      <td>12</td>\n",
       "      <td>21</td>\n",
       "      <td>0</td>\n",
       "      <td>1</td>\n",
       "      <td>1</td>\n",
       "      <td>1</td>\n",
       "      <td>0.26</td>\n",
       "      <td>0.2576</td>\n",
       "      <td>0.60</td>\n",
       "      <td>0.1642</td>\n",
       "      <td>7</td>\n",
       "      <td>83</td>\n",
       "      <td>90</td>\n",
       "    </tr>\n",
       "    <tr>\n",
       "      <th>17377</th>\n",
       "      <td>17378</td>\n",
       "      <td>2012-12-31</td>\n",
       "      <td>1</td>\n",
       "      <td>1</td>\n",
       "      <td>12</td>\n",
       "      <td>22</td>\n",
       "      <td>0</td>\n",
       "      <td>1</td>\n",
       "      <td>1</td>\n",
       "      <td>1</td>\n",
       "      <td>0.26</td>\n",
       "      <td>0.2727</td>\n",
       "      <td>0.56</td>\n",
       "      <td>0.1343</td>\n",
       "      <td>13</td>\n",
       "      <td>48</td>\n",
       "      <td>61</td>\n",
       "    </tr>\n",
       "    <tr>\n",
       "      <th>17378</th>\n",
       "      <td>17379</td>\n",
       "      <td>2012-12-31</td>\n",
       "      <td>1</td>\n",
       "      <td>1</td>\n",
       "      <td>12</td>\n",
       "      <td>23</td>\n",
       "      <td>0</td>\n",
       "      <td>1</td>\n",
       "      <td>1</td>\n",
       "      <td>1</td>\n",
       "      <td>0.26</td>\n",
       "      <td>0.2727</td>\n",
       "      <td>0.65</td>\n",
       "      <td>0.1343</td>\n",
       "      <td>12</td>\n",
       "      <td>37</td>\n",
       "      <td>49</td>\n",
       "    </tr>\n",
       "  </tbody>\n",
       "</table>\n",
       "<p>17379 rows × 17 columns</p>\n",
       "</div>"
      ],
      "text/plain": [
       "       instant      dteday  season  yr  mnth  hr  holiday  weekday  \\\n",
       "0            1  2011-01-01       1   0     1   0        0        6   \n",
       "1            2  2011-01-01       1   0     1   1        0        6   \n",
       "2            3  2011-01-01       1   0     1   2        0        6   \n",
       "3            4  2011-01-01       1   0     1   3        0        6   \n",
       "4            5  2011-01-01       1   0     1   4        0        6   \n",
       "...        ...         ...     ...  ..   ...  ..      ...      ...   \n",
       "17374    17375  2012-12-31       1   1    12  19        0        1   \n",
       "17375    17376  2012-12-31       1   1    12  20        0        1   \n",
       "17376    17377  2012-12-31       1   1    12  21        0        1   \n",
       "17377    17378  2012-12-31       1   1    12  22        0        1   \n",
       "17378    17379  2012-12-31       1   1    12  23        0        1   \n",
       "\n",
       "       workingday  weathersit  temp   atemp   hum  windspeed  casual  \\\n",
       "0               0           1  0.24  0.2879  0.81     0.0000       3   \n",
       "1               0           1  0.22  0.2727  0.80     0.0000       8   \n",
       "2               0           1  0.22  0.2727  0.80     0.0000       5   \n",
       "3               0           1  0.24  0.2879  0.75     0.0000       3   \n",
       "4               0           1  0.24  0.2879  0.75     0.0000       0   \n",
       "...           ...         ...   ...     ...   ...        ...     ...   \n",
       "17374           1           2  0.26  0.2576  0.60     0.1642      11   \n",
       "17375           1           2  0.26  0.2576  0.60     0.1642       8   \n",
       "17376           1           1  0.26  0.2576  0.60     0.1642       7   \n",
       "17377           1           1  0.26  0.2727  0.56     0.1343      13   \n",
       "17378           1           1  0.26  0.2727  0.65     0.1343      12   \n",
       "\n",
       "       registered  cnt  \n",
       "0              13   16  \n",
       "1              32   40  \n",
       "2              27   32  \n",
       "3              10   13  \n",
       "4               1    1  \n",
       "...           ...  ...  \n",
       "17374         108  119  \n",
       "17375          81   89  \n",
       "17376          83   90  \n",
       "17377          48   61  \n",
       "17378          37   49  \n",
       "\n",
       "[17379 rows x 17 columns]"
      ]
     },
     "metadata": {},
     "output_type": "display_data"
    }
   ],
   "source": [
    "display(hour_raw)"
   ]
  },
  {
   "cell_type": "code",
   "execution_count": 36,
   "metadata": {},
   "outputs": [
    {
     "data": {
      "text/html": [
       "<div>\n",
       "<style scoped>\n",
       "    .dataframe tbody tr th:only-of-type {\n",
       "        vertical-align: middle;\n",
       "    }\n",
       "\n",
       "    .dataframe tbody tr th {\n",
       "        vertical-align: top;\n",
       "    }\n",
       "\n",
       "    .dataframe thead th {\n",
       "        text-align: right;\n",
       "    }\n",
       "</style>\n",
       "<table border=\"1\" class=\"dataframe\">\n",
       "  <thead>\n",
       "    <tr style=\"text-align: right;\">\n",
       "      <th></th>\n",
       "      <th>instant</th>\n",
       "      <th>dteday</th>\n",
       "      <th>season</th>\n",
       "      <th>yr</th>\n",
       "      <th>mnth</th>\n",
       "      <th>holiday</th>\n",
       "      <th>weekday</th>\n",
       "      <th>workingday</th>\n",
       "      <th>weathersit</th>\n",
       "      <th>temp</th>\n",
       "      <th>atemp</th>\n",
       "      <th>hum</th>\n",
       "      <th>windspeed</th>\n",
       "      <th>casual</th>\n",
       "      <th>registered</th>\n",
       "      <th>cnt</th>\n",
       "    </tr>\n",
       "  </thead>\n",
       "  <tbody>\n",
       "    <tr>\n",
       "      <th>0</th>\n",
       "      <td>1</td>\n",
       "      <td>2011-01-01</td>\n",
       "      <td>1</td>\n",
       "      <td>0</td>\n",
       "      <td>1</td>\n",
       "      <td>0</td>\n",
       "      <td>6</td>\n",
       "      <td>0</td>\n",
       "      <td>2</td>\n",
       "      <td>0.344167</td>\n",
       "      <td>0.363625</td>\n",
       "      <td>0.805833</td>\n",
       "      <td>0.160446</td>\n",
       "      <td>331</td>\n",
       "      <td>654</td>\n",
       "      <td>985</td>\n",
       "    </tr>\n",
       "    <tr>\n",
       "      <th>1</th>\n",
       "      <td>2</td>\n",
       "      <td>2011-01-02</td>\n",
       "      <td>1</td>\n",
       "      <td>0</td>\n",
       "      <td>1</td>\n",
       "      <td>0</td>\n",
       "      <td>0</td>\n",
       "      <td>0</td>\n",
       "      <td>2</td>\n",
       "      <td>0.363478</td>\n",
       "      <td>0.353739</td>\n",
       "      <td>0.696087</td>\n",
       "      <td>0.248539</td>\n",
       "      <td>131</td>\n",
       "      <td>670</td>\n",
       "      <td>801</td>\n",
       "    </tr>\n",
       "    <tr>\n",
       "      <th>2</th>\n",
       "      <td>3</td>\n",
       "      <td>2011-01-03</td>\n",
       "      <td>1</td>\n",
       "      <td>0</td>\n",
       "      <td>1</td>\n",
       "      <td>0</td>\n",
       "      <td>1</td>\n",
       "      <td>1</td>\n",
       "      <td>1</td>\n",
       "      <td>0.196364</td>\n",
       "      <td>0.189405</td>\n",
       "      <td>0.437273</td>\n",
       "      <td>0.248309</td>\n",
       "      <td>120</td>\n",
       "      <td>1229</td>\n",
       "      <td>1349</td>\n",
       "    </tr>\n",
       "    <tr>\n",
       "      <th>3</th>\n",
       "      <td>4</td>\n",
       "      <td>2011-01-04</td>\n",
       "      <td>1</td>\n",
       "      <td>0</td>\n",
       "      <td>1</td>\n",
       "      <td>0</td>\n",
       "      <td>2</td>\n",
       "      <td>1</td>\n",
       "      <td>1</td>\n",
       "      <td>0.200000</td>\n",
       "      <td>0.212122</td>\n",
       "      <td>0.590435</td>\n",
       "      <td>0.160296</td>\n",
       "      <td>108</td>\n",
       "      <td>1454</td>\n",
       "      <td>1562</td>\n",
       "    </tr>\n",
       "    <tr>\n",
       "      <th>4</th>\n",
       "      <td>5</td>\n",
       "      <td>2011-01-05</td>\n",
       "      <td>1</td>\n",
       "      <td>0</td>\n",
       "      <td>1</td>\n",
       "      <td>0</td>\n",
       "      <td>3</td>\n",
       "      <td>1</td>\n",
       "      <td>1</td>\n",
       "      <td>0.226957</td>\n",
       "      <td>0.229270</td>\n",
       "      <td>0.436957</td>\n",
       "      <td>0.186900</td>\n",
       "      <td>82</td>\n",
       "      <td>1518</td>\n",
       "      <td>1600</td>\n",
       "    </tr>\n",
       "    <tr>\n",
       "      <th>...</th>\n",
       "      <td>...</td>\n",
       "      <td>...</td>\n",
       "      <td>...</td>\n",
       "      <td>...</td>\n",
       "      <td>...</td>\n",
       "      <td>...</td>\n",
       "      <td>...</td>\n",
       "      <td>...</td>\n",
       "      <td>...</td>\n",
       "      <td>...</td>\n",
       "      <td>...</td>\n",
       "      <td>...</td>\n",
       "      <td>...</td>\n",
       "      <td>...</td>\n",
       "      <td>...</td>\n",
       "      <td>...</td>\n",
       "    </tr>\n",
       "    <tr>\n",
       "      <th>726</th>\n",
       "      <td>727</td>\n",
       "      <td>2012-12-27</td>\n",
       "      <td>1</td>\n",
       "      <td>1</td>\n",
       "      <td>12</td>\n",
       "      <td>0</td>\n",
       "      <td>4</td>\n",
       "      <td>1</td>\n",
       "      <td>2</td>\n",
       "      <td>0.254167</td>\n",
       "      <td>0.226642</td>\n",
       "      <td>0.652917</td>\n",
       "      <td>0.350133</td>\n",
       "      <td>247</td>\n",
       "      <td>1867</td>\n",
       "      <td>2114</td>\n",
       "    </tr>\n",
       "    <tr>\n",
       "      <th>727</th>\n",
       "      <td>728</td>\n",
       "      <td>2012-12-28</td>\n",
       "      <td>1</td>\n",
       "      <td>1</td>\n",
       "      <td>12</td>\n",
       "      <td>0</td>\n",
       "      <td>5</td>\n",
       "      <td>1</td>\n",
       "      <td>2</td>\n",
       "      <td>0.253333</td>\n",
       "      <td>0.255046</td>\n",
       "      <td>0.590000</td>\n",
       "      <td>0.155471</td>\n",
       "      <td>644</td>\n",
       "      <td>2451</td>\n",
       "      <td>3095</td>\n",
       "    </tr>\n",
       "    <tr>\n",
       "      <th>728</th>\n",
       "      <td>729</td>\n",
       "      <td>2012-12-29</td>\n",
       "      <td>1</td>\n",
       "      <td>1</td>\n",
       "      <td>12</td>\n",
       "      <td>0</td>\n",
       "      <td>6</td>\n",
       "      <td>0</td>\n",
       "      <td>2</td>\n",
       "      <td>0.253333</td>\n",
       "      <td>0.242400</td>\n",
       "      <td>0.752917</td>\n",
       "      <td>0.124383</td>\n",
       "      <td>159</td>\n",
       "      <td>1182</td>\n",
       "      <td>1341</td>\n",
       "    </tr>\n",
       "    <tr>\n",
       "      <th>729</th>\n",
       "      <td>730</td>\n",
       "      <td>2012-12-30</td>\n",
       "      <td>1</td>\n",
       "      <td>1</td>\n",
       "      <td>12</td>\n",
       "      <td>0</td>\n",
       "      <td>0</td>\n",
       "      <td>0</td>\n",
       "      <td>1</td>\n",
       "      <td>0.255833</td>\n",
       "      <td>0.231700</td>\n",
       "      <td>0.483333</td>\n",
       "      <td>0.350754</td>\n",
       "      <td>364</td>\n",
       "      <td>1432</td>\n",
       "      <td>1796</td>\n",
       "    </tr>\n",
       "    <tr>\n",
       "      <th>730</th>\n",
       "      <td>731</td>\n",
       "      <td>2012-12-31</td>\n",
       "      <td>1</td>\n",
       "      <td>1</td>\n",
       "      <td>12</td>\n",
       "      <td>0</td>\n",
       "      <td>1</td>\n",
       "      <td>1</td>\n",
       "      <td>2</td>\n",
       "      <td>0.215833</td>\n",
       "      <td>0.223487</td>\n",
       "      <td>0.577500</td>\n",
       "      <td>0.154846</td>\n",
       "      <td>439</td>\n",
       "      <td>2290</td>\n",
       "      <td>2729</td>\n",
       "    </tr>\n",
       "  </tbody>\n",
       "</table>\n",
       "<p>731 rows × 16 columns</p>\n",
       "</div>"
      ],
      "text/plain": [
       "     instant      dteday  season  yr  mnth  holiday  weekday  workingday  \\\n",
       "0          1  2011-01-01       1   0     1        0        6           0   \n",
       "1          2  2011-01-02       1   0     1        0        0           0   \n",
       "2          3  2011-01-03       1   0     1        0        1           1   \n",
       "3          4  2011-01-04       1   0     1        0        2           1   \n",
       "4          5  2011-01-05       1   0     1        0        3           1   \n",
       "..       ...         ...     ...  ..   ...      ...      ...         ...   \n",
       "726      727  2012-12-27       1   1    12        0        4           1   \n",
       "727      728  2012-12-28       1   1    12        0        5           1   \n",
       "728      729  2012-12-29       1   1    12        0        6           0   \n",
       "729      730  2012-12-30       1   1    12        0        0           0   \n",
       "730      731  2012-12-31       1   1    12        0        1           1   \n",
       "\n",
       "     weathersit      temp     atemp       hum  windspeed  casual  registered  \\\n",
       "0             2  0.344167  0.363625  0.805833   0.160446     331         654   \n",
       "1             2  0.363478  0.353739  0.696087   0.248539     131         670   \n",
       "2             1  0.196364  0.189405  0.437273   0.248309     120        1229   \n",
       "3             1  0.200000  0.212122  0.590435   0.160296     108        1454   \n",
       "4             1  0.226957  0.229270  0.436957   0.186900      82        1518   \n",
       "..          ...       ...       ...       ...        ...     ...         ...   \n",
       "726           2  0.254167  0.226642  0.652917   0.350133     247        1867   \n",
       "727           2  0.253333  0.255046  0.590000   0.155471     644        2451   \n",
       "728           2  0.253333  0.242400  0.752917   0.124383     159        1182   \n",
       "729           1  0.255833  0.231700  0.483333   0.350754     364        1432   \n",
       "730           2  0.215833  0.223487  0.577500   0.154846     439        2290   \n",
       "\n",
       "      cnt  \n",
       "0     985  \n",
       "1     801  \n",
       "2    1349  \n",
       "3    1562  \n",
       "4    1600  \n",
       "..    ...  \n",
       "726  2114  \n",
       "727  3095  \n",
       "728  1341  \n",
       "729  1796  \n",
       "730  2729  \n",
       "\n",
       "[731 rows x 16 columns]"
      ]
     },
     "metadata": {},
     "output_type": "display_data"
    }
   ],
   "source": [
    "display(day_raw)"
   ]
  },
  {
   "cell_type": "code",
   "execution_count": 37,
   "metadata": {
    "scrolled": false
   },
   "outputs": [
    {
     "name": "stdout",
     "output_type": "stream",
     "text": [
      "<class 'pandas.core.frame.DataFrame'>\n",
      "RangeIndex: 17379 entries, 0 to 17378\n",
      "Data columns (total 17 columns):\n",
      " #   Column      Non-Null Count  Dtype  \n",
      "---  ------      --------------  -----  \n",
      " 0   instant     17379 non-null  int64  \n",
      " 1   dteday      17379 non-null  object \n",
      " 2   season      17379 non-null  int64  \n",
      " 3   yr          17379 non-null  int64  \n",
      " 4   mnth        17379 non-null  int64  \n",
      " 5   hr          17379 non-null  int64  \n",
      " 6   holiday     17379 non-null  int64  \n",
      " 7   weekday     17379 non-null  int64  \n",
      " 8   workingday  17379 non-null  int64  \n",
      " 9   weathersit  17379 non-null  int64  \n",
      " 10  temp        17379 non-null  float64\n",
      " 11  atemp       17379 non-null  float64\n",
      " 12  hum         17379 non-null  float64\n",
      " 13  windspeed   17379 non-null  float64\n",
      " 14  casual      17379 non-null  int64  \n",
      " 15  registered  17379 non-null  int64  \n",
      " 16  cnt         17379 non-null  int64  \n",
      "dtypes: float64(4), int64(12), object(1)\n",
      "memory usage: 2.3+ MB\n"
     ]
    },
    {
     "data": {
      "text/plain": [
       "instant       17379\n",
       "dteday          731\n",
       "season            4\n",
       "yr                2\n",
       "mnth             12\n",
       "hr               24\n",
       "holiday           2\n",
       "weekday           7\n",
       "workingday        2\n",
       "weathersit        4\n",
       "temp             50\n",
       "atemp            65\n",
       "hum              89\n",
       "windspeed        30\n",
       "casual          322\n",
       "registered      776\n",
       "cnt             869\n",
       "dtype: int64"
      ]
     },
     "execution_count": 37,
     "metadata": {},
     "output_type": "execute_result"
    }
   ],
   "source": [
    "hour_raw.info()\n",
    "hour_raw.nunique()"
   ]
  },
  {
   "cell_type": "code",
   "execution_count": 38,
   "metadata": {},
   "outputs": [
    {
     "name": "stdout",
     "output_type": "stream",
     "text": [
      "<class 'pandas.core.frame.DataFrame'>\n",
      "RangeIndex: 731 entries, 0 to 730\n",
      "Data columns (total 16 columns):\n",
      " #   Column      Non-Null Count  Dtype  \n",
      "---  ------      --------------  -----  \n",
      " 0   instant     731 non-null    int64  \n",
      " 1   dteday      731 non-null    object \n",
      " 2   season      731 non-null    int64  \n",
      " 3   yr          731 non-null    int64  \n",
      " 4   mnth        731 non-null    int64  \n",
      " 5   holiday     731 non-null    int64  \n",
      " 6   weekday     731 non-null    int64  \n",
      " 7   workingday  731 non-null    int64  \n",
      " 8   weathersit  731 non-null    int64  \n",
      " 9   temp        731 non-null    float64\n",
      " 10  atemp       731 non-null    float64\n",
      " 11  hum         731 non-null    float64\n",
      " 12  windspeed   731 non-null    float64\n",
      " 13  casual      731 non-null    int64  \n",
      " 14  registered  731 non-null    int64  \n",
      " 15  cnt         731 non-null    int64  \n",
      "dtypes: float64(4), int64(11), object(1)\n",
      "memory usage: 91.5+ KB\n"
     ]
    },
    {
     "data": {
      "text/plain": [
       "instant       731\n",
       "dteday        731\n",
       "season          4\n",
       "yr              2\n",
       "mnth           12\n",
       "holiday         2\n",
       "weekday         7\n",
       "workingday      2\n",
       "weathersit      3\n",
       "temp          499\n",
       "atemp         690\n",
       "hum           595\n",
       "windspeed     650\n",
       "casual        606\n",
       "registered    679\n",
       "cnt           696\n",
       "dtype: int64"
      ]
     },
     "execution_count": 38,
     "metadata": {},
     "output_type": "execute_result"
    }
   ],
   "source": [
    "day_raw.info()\n",
    "day_raw.nunique()"
   ]
  },
  {
   "cell_type": "code",
   "execution_count": 39,
   "metadata": {},
   "outputs": [
    {
     "name": "stdout",
     "output_type": "stream",
     "text": [
      "instant       0\n",
      "dteday        0\n",
      "season        0\n",
      "yr            0\n",
      "mnth          0\n",
      "hr            0\n",
      "holiday       0\n",
      "weekday       0\n",
      "workingday    0\n",
      "weathersit    0\n",
      "temp          0\n",
      "atemp         0\n",
      "hum           0\n",
      "windspeed     0\n",
      "casual        0\n",
      "registered    0\n",
      "cnt           0\n",
      "dtype: int64\n"
     ]
    }
   ],
   "source": [
    "#print(hour_raw.isnull().any())\n",
    "print(hour_raw.isnull().sum())"
   ]
  },
  {
   "cell_type": "code",
   "execution_count": 40,
   "metadata": {},
   "outputs": [
    {
     "name": "stdout",
     "output_type": "stream",
     "text": [
      "instant       0\n",
      "dteday        0\n",
      "season        0\n",
      "yr            0\n",
      "mnth          0\n",
      "holiday       0\n",
      "weekday       0\n",
      "workingday    0\n",
      "weathersit    0\n",
      "temp          0\n",
      "atemp         0\n",
      "hum           0\n",
      "windspeed     0\n",
      "casual        0\n",
      "registered    0\n",
      "cnt           0\n",
      "dtype: int64\n"
     ]
    }
   ],
   "source": [
    "#print(day_raw.isnull().any())\n",
    "print(day_raw.isnull().sum())"
   ]
  },
  {
   "cell_type": "markdown",
   "metadata": {},
   "source": [
    "### Data preprocessing\n",
    "\n",
    "- Part1: hour file"
   ]
  },
  {
   "cell_type": "code",
   "execution_count": 41,
   "metadata": {},
   "outputs": [
    {
     "data": {
      "text/html": [
       "<div>\n",
       "<style scoped>\n",
       "    .dataframe tbody tr th:only-of-type {\n",
       "        vertical-align: middle;\n",
       "    }\n",
       "\n",
       "    .dataframe tbody tr th {\n",
       "        vertical-align: top;\n",
       "    }\n",
       "\n",
       "    .dataframe thead th {\n",
       "        text-align: right;\n",
       "    }\n",
       "</style>\n",
       "<table border=\"1\" class=\"dataframe\">\n",
       "  <thead>\n",
       "    <tr style=\"text-align: right;\">\n",
       "      <th></th>\n",
       "      <th>Casual</th>\n",
       "      <th>Registered</th>\n",
       "      <th>cnt</th>\n",
       "    </tr>\n",
       "  </thead>\n",
       "  <tbody>\n",
       "    <tr>\n",
       "      <th>count</th>\n",
       "      <td>17379.000000</td>\n",
       "      <td>17379.000000</td>\n",
       "      <td>17379.000000</td>\n",
       "    </tr>\n",
       "    <tr>\n",
       "      <th>mean</th>\n",
       "      <td>35.676218</td>\n",
       "      <td>153.786869</td>\n",
       "      <td>189.463088</td>\n",
       "    </tr>\n",
       "    <tr>\n",
       "      <th>std</th>\n",
       "      <td>49.305030</td>\n",
       "      <td>151.357286</td>\n",
       "      <td>181.387599</td>\n",
       "    </tr>\n",
       "    <tr>\n",
       "      <th>min</th>\n",
       "      <td>0.000000</td>\n",
       "      <td>0.000000</td>\n",
       "      <td>1.000000</td>\n",
       "    </tr>\n",
       "    <tr>\n",
       "      <th>25%</th>\n",
       "      <td>4.000000</td>\n",
       "      <td>34.000000</td>\n",
       "      <td>40.000000</td>\n",
       "    </tr>\n",
       "    <tr>\n",
       "      <th>50%</th>\n",
       "      <td>17.000000</td>\n",
       "      <td>115.000000</td>\n",
       "      <td>142.000000</td>\n",
       "    </tr>\n",
       "    <tr>\n",
       "      <th>75%</th>\n",
       "      <td>48.000000</td>\n",
       "      <td>220.000000</td>\n",
       "      <td>281.000000</td>\n",
       "    </tr>\n",
       "    <tr>\n",
       "      <th>max</th>\n",
       "      <td>367.000000</td>\n",
       "      <td>886.000000</td>\n",
       "      <td>977.000000</td>\n",
       "    </tr>\n",
       "  </tbody>\n",
       "</table>\n",
       "</div>"
      ],
      "text/plain": [
       "             Casual    Registered           cnt\n",
       "count  17379.000000  17379.000000  17379.000000\n",
       "mean      35.676218    153.786869    189.463088\n",
       "std       49.305030    151.357286    181.387599\n",
       "min        0.000000      0.000000      1.000000\n",
       "25%        4.000000     34.000000     40.000000\n",
       "50%       17.000000    115.000000    142.000000\n",
       "75%       48.000000    220.000000    281.000000\n",
       "max      367.000000    886.000000    977.000000"
      ]
     },
     "metadata": {},
     "output_type": "display_data"
    }
   ],
   "source": [
    "hour = hour_raw.copy()\n",
    "info = pd.DataFrame(columns=('Casual', 'Registered', 'cnt'))\n",
    "info['Casual'] = hour['casual'].describe()\n",
    "info['Registered'] = hour['registered'].describe()\n",
    "info['cnt'] = hour['cnt'].describe()\n",
    "display(info)"
   ]
  },
  {
   "cell_type": "code",
   "execution_count": 42,
   "metadata": {},
   "outputs": [],
   "source": [
    "#['instant', 'dteday'] not useful\n",
    "#holiday, workingday not need to get dummy\n",
    "category_features = ['season', 'holiday', 'yr', 'mnth', 'hr', 'weekday', 'workingday', 'weathersit']\n",
    "number_features = ['temp', 'atemp', 'hum', 'windspeed']\n",
    "hour[category_features] = hour[category_features].astype('category')"
   ]
  },
  {
   "cell_type": "code",
   "execution_count": 43,
   "metadata": {},
   "outputs": [
    {
     "data": {
      "text/plain": [
       "instant          int64\n",
       "dteday          object\n",
       "season        category\n",
       "yr            category\n",
       "mnth          category\n",
       "hr            category\n",
       "holiday       category\n",
       "weekday       category\n",
       "workingday    category\n",
       "weathersit    category\n",
       "temp           float64\n",
       "atemp          float64\n",
       "hum            float64\n",
       "windspeed      float64\n",
       "casual           int64\n",
       "registered       int64\n",
       "cnt              int64\n",
       "dtype: object"
      ]
     },
     "execution_count": 43,
     "metadata": {},
     "output_type": "execute_result"
    }
   ],
   "source": [
    "hour.dtypes"
   ]
  },
  {
   "cell_type": "code",
   "execution_count": 44,
   "metadata": {
    "scrolled": true
   },
   "outputs": [
    {
     "name": "stdout",
     "output_type": "stream",
     "text": [
      "      season holiday yr mnth  hr weekday workingday weathersit\n",
      "0          1       0  0    1   0       6          0          1\n",
      "1          1       0  0    1   1       6          0          1\n",
      "2          1       0  0    1   2       6          0          1\n",
      "3          1       0  0    1   3       6          0          1\n",
      "4          1       0  0    1   4       6          0          1\n",
      "...      ...     ... ..  ...  ..     ...        ...        ...\n",
      "17374      1       0  1   12  19       1          1          2\n",
      "17375      1       0  1   12  20       1          1          2\n",
      "17376      1       0  1   12  21       1          1          1\n",
      "17377      1       0  1   12  22       1          1          1\n",
      "17378      1       0  1   12  23       1          1          1\n",
      "\n",
      "[17379 rows x 8 columns]\n"
     ]
    }
   ],
   "source": [
    "print(hour[category_features].astype('category'))"
   ]
  },
  {
   "cell_type": "code",
   "execution_count": 45,
   "metadata": {},
   "outputs": [],
   "source": [
    "features = category_features + number_features"
   ]
  },
  {
   "cell_type": "code",
   "execution_count": 46,
   "metadata": {},
   "outputs": [],
   "source": [
    "target = ['casual','registered','cnt']\n",
    "y = hour[target]"
   ]
  },
  {
   "cell_type": "code",
   "execution_count": 47,
   "metadata": {
    "scrolled": false
   },
   "outputs": [
    {
     "data": {
      "image/png": "[encoded data removed]",
      "text/plain": [
       "<Figure size 792x360 with 1 Axes>"
      ]
     },
     "metadata": {
      "needs_background": "light"
     },
     "output_type": "display_data"
    }
   ],
   "source": [
    "plt.figure(figsize=(11,5))\n",
    "sns.barplot('hr','casual',hue='season', data=hour, palette='rainbow', ci=None)\n",
    "plt.xlabel('Hourly')\n",
    "plt.ylabel('Total number of bikes rented on Casual basis')\n",
    "plt.title('Number of bikes rented per season')\n",
    "plt.show()"
   ]
  },
  {
   "cell_type": "code",
   "execution_count": 48,
   "metadata": {
    "scrolled": false
   },
   "outputs": [
    {
     "data": {
      "text/plain": [
       "Text(0.5, 1.0, 'Number of bikes rented per season')"
      ]
     },
     "execution_count": 48,
     "metadata": {},
     "output_type": "execute_result"
    },
    {
     "data": {
      "image/png": "[encoded data removed]",
      "text/plain": [
       "<Figure size 792x360 with 1 Axes>"
      ]
     },
     "metadata": {
      "needs_background": "light"
     },
     "output_type": "display_data"
    }
   ],
   "source": [
    "plt.figure(figsize=(11,5))\n",
    "sns.barplot('hr','registered', hue='weathersit', data=hour, palette='rainbow', ci=None)\n",
    "plt.xlabel('hourly')\n",
    "plt.ylabel('Total number of bikes rented on Registered basis')\n",
    "plt.title('Number of bikes rented per season')"
   ]
  },
  {
   "cell_type": "markdown",
   "metadata": {},
   "source": [
    "Seeing from these two plots above, we could know that casual users and registered users behaved differently per hourly due to seasons and weathers. As the graph showed, casual users are less likely to use bike rental service in winter(season 1), while the most preferable season for them is spring(season 2). For the registered users, even in the winter time(season 1), they still consider to use the bike rental service, but they use it lessly in fall(season 4)."
   ]
  },
  {
   "cell_type": "markdown",
   "metadata": {},
   "source": [
    "### Correlation Matrix"
   ]
  },
  {
   "cell_type": "code",
   "execution_count": 49,
   "metadata": {},
   "outputs": [
    {
     "data": {
      "image/png": "[encoded data removed]",
      "text/plain": [
       "<Figure size 1080x720 with 2 Axes>"
      ]
     },
     "metadata": {
      "needs_background": "light"
     },
     "output_type": "display_data"
    }
   ],
   "source": [
    "plt.figure(figsize = (15,10))\n",
    "sns.heatmap(hour.corr(), annot = True, cmap=\"RdBu\")\n",
    "plt.show()"
   ]
  },
  {
   "cell_type": "code",
   "execution_count": 50,
   "metadata": {
    "scrolled": false
   },
   "outputs": [
    {
     "data": {
      "text/plain": [
       "<matplotlib.axes._subplots.AxesSubplot at 0x2a1db4c42e0>"
      ]
     },
     "execution_count": 50,
     "metadata": {},
     "output_type": "execute_result"
    },
    {
     "data": {
      "image/png": "[encoded data removed]",
      "text/plain": [
       "<Figure size 1440x720 with 2 Axes>"
      ]
     },
     "metadata": {
      "needs_background": "light"
     },
     "output_type": "display_data"
    }
   ],
   "source": [
    "matrix = hour[features].corr()\n",
    "heat = np.array(matrix)\n",
    "heat[np.tril_indices_from(heat)] = False\n",
    "fig,ax= plt.subplots()\n",
    "fig.set_size_inches(20,10)\n",
    "sns.set(font_scale=1.0)\n",
    "sns.heatmap(matrix, mask=heat,vmax=1.0, vmin=0.0, square=True,annot=True, cmap=\"Reds\")"
   ]
  },
  {
   "cell_type": "markdown",
   "metadata": {},
   "source": [
    "- Casual and registered contain direct information about the bike sharing count which is to predict. Therefore they are not considered in the features.\n",
    "- The variables \"temp\" and \"atemp\" are strongly correlated. To reduce the dimensionality of the predictive model, the feature \"atemp\" should be removed."
   ]
  },
  {
   "cell_type": "code",
   "execution_count": 51,
   "metadata": {},
   "outputs": [],
   "source": [
    "# One hot encoding on categorical columns\n",
    "X1 = pd.get_dummies(hour[features], drop_first=True)\n",
    "X2 = pd.get_dummies(hour[features], drop_first=True)\n",
    "X3 = pd.get_dummies(hour[features], drop_first=True)"
   ]
  },
  {
   "cell_type": "code",
   "execution_count": 52,
   "metadata": {},
   "outputs": [
    {
     "name": "stdout",
     "output_type": "stream",
     "text": [
      "X train shape (12165, 53)\n",
      "X test shape (5214, 53)\n",
      "y train shape (12165,)\n",
      "y test shape (5214,)\n"
     ]
    }
   ],
   "source": [
    "X_train1, X_test1, y_train1, y_test1 = train_test_split(X1, y.casual, test_size = 0.3, random_state = 0)\n",
    "print(f\"X train shape {X_train1.shape}\")\n",
    "print(f\"X test shape {X_test1.shape}\")\n",
    "print(f\"y train shape {y_train1.shape}\")\n",
    "print(f\"y test shape {y_test1.shape}\")"
   ]
  },
  {
   "cell_type": "code",
   "execution_count": 53,
   "metadata": {},
   "outputs": [
    {
     "name": "stdout",
     "output_type": "stream",
     "text": [
      "X train shape (12165, 53)\n",
      "X test shape (5214, 53)\n",
      "y train shape (12165,)\n",
      "y test shape (5214,)\n"
     ]
    }
   ],
   "source": [
    "X_train2, X_test2, y_train2, y_test2 = train_test_split(X2, y.registered, test_size = 0.3, random_state = 0)\n",
    "print(f\"X train shape {X_train2.shape}\")\n",
    "print(f\"X test shape {X_test2.shape}\")\n",
    "print(f\"y train shape {y_train2.shape}\")\n",
    "print(f\"y test shape {y_test2.shape}\")"
   ]
  },
  {
   "cell_type": "code",
   "execution_count": 54,
   "metadata": {},
   "outputs": [
    {
     "name": "stdout",
     "output_type": "stream",
     "text": [
      "X train shape (12165, 53)\n",
      "X test shape (5214, 53)\n",
      "y train shape (12165,)\n",
      "y test shape (5214,)\n"
     ]
    }
   ],
   "source": [
    "X_train3, X_test3, y_train3, y_test3 = train_test_split(X3, y.cnt, test_size = 0.3, random_state = 0)\n",
    "print(f\"X train shape {X_train3.shape}\")\n",
    "print(f\"X test shape {X_test3.shape}\")\n",
    "print(f\"y train shape {y_train3.shape}\")\n",
    "print(f\"y test shape {y_test3.shape}\")"
   ]
  },
  {
   "cell_type": "code",
   "execution_count": 55,
   "metadata": {},
   "outputs": [],
   "source": [
    "stdscaler = preprocessing.StandardScaler()"
   ]
  },
  {
   "cell_type": "code",
   "execution_count": 56,
   "metadata": {},
   "outputs": [
    {
     "name": "stdout",
     "output_type": "stream",
     "text": [
      "X train shape and X test shape ((12165, 53), (5214, 53))\n"
     ]
    }
   ],
   "source": [
    "X_train1 = stdscaler.fit_transform(X_train1)\n",
    "X_test1 = stdscaler.transform(X_test1)\n",
    "print(f\"X train shape and X test shape {X_train1.shape, X_test1.shape}\")"
   ]
  },
  {
   "cell_type": "code",
   "execution_count": 57,
   "metadata": {},
   "outputs": [
    {
     "name": "stdout",
     "output_type": "stream",
     "text": [
      "X train shape and X test shape ((12165, 53), (5214, 53))\n"
     ]
    }
   ],
   "source": [
    "X_train2 = stdscaler.fit_transform(X_train2)\n",
    "X_test2 = stdscaler.transform(X_test2)\n",
    "print(f\"X train shape and X test shape {X_train2.shape, X_test2.shape}\")"
   ]
  },
  {
   "cell_type": "code",
   "execution_count": 58,
   "metadata": {
    "scrolled": true
   },
   "outputs": [
    {
     "name": "stdout",
     "output_type": "stream",
     "text": [
      "X train shape and X test shape ((12165, 53), (5214, 53))\n"
     ]
    }
   ],
   "source": [
    "X_train3 = stdscaler.fit_transform(X_train3)\n",
    "X_test3 = stdscaler.transform(X_test3)\n",
    "print(f\"X train shape and X test shape {X_train3.shape, X_test3.shape}\")"
   ]
  },
  {
   "cell_type": "markdown",
   "metadata": {},
   "source": [
    "### Linear Regression Model"
   ]
  },
  {
   "cell_type": "code",
   "execution_count": 59,
   "metadata": {},
   "outputs": [],
   "source": [
    "#lm = LinearRegression()\n",
    "#training model in training set\n",
    "lm1 = LinearRegression().fit(X_train1, y_train1)\n",
    "lm2 = LinearRegression().fit(X_train2, y_train2)\n",
    "lm3 = LinearRegression().fit(X_train3, y_train3)"
   ]
  },
  {
   "cell_type": "markdown",
   "metadata": {},
   "source": [
    "**For Casual users**"
   ]
  },
  {
   "cell_type": "code",
   "execution_count": 60,
   "metadata": {
    "scrolled": true
   },
   "outputs": [
    {
     "data": {
      "text/html": [
       "<div>\n",
       "<style scoped>\n",
       "    .dataframe tbody tr th:only-of-type {\n",
       "        vertical-align: middle;\n",
       "    }\n",
       "\n",
       "    .dataframe tbody tr th {\n",
       "        vertical-align: top;\n",
       "    }\n",
       "\n",
       "    .dataframe thead th {\n",
       "        text-align: right;\n",
       "    }\n",
       "</style>\n",
       "<table border=\"1\" class=\"dataframe\">\n",
       "  <thead>\n",
       "    <tr style=\"text-align: right;\">\n",
       "      <th></th>\n",
       "      <th>Actual Values</th>\n",
       "      <th>Predicted Values</th>\n",
       "      <th>Residual</th>\n",
       "    </tr>\n",
       "  </thead>\n",
       "  <tbody>\n",
       "    <tr>\n",
       "      <th>3439</th>\n",
       "      <td>4</td>\n",
       "      <td>39.497308</td>\n",
       "      <td>-35.497308</td>\n",
       "    </tr>\n",
       "    <tr>\n",
       "      <th>6542</th>\n",
       "      <td>1</td>\n",
       "      <td>-9.717535</td>\n",
       "      <td>10.717535</td>\n",
       "    </tr>\n",
       "    <tr>\n",
       "      <th>15470</th>\n",
       "      <td>81</td>\n",
       "      <td>50.395746</td>\n",
       "      <td>30.604254</td>\n",
       "    </tr>\n",
       "    <tr>\n",
       "      <th>9851</th>\n",
       "      <td>45</td>\n",
       "      <td>46.094965</td>\n",
       "      <td>-1.094965</td>\n",
       "    </tr>\n",
       "    <tr>\n",
       "      <th>12640</th>\n",
       "      <td>83</td>\n",
       "      <td>50.384027</td>\n",
       "      <td>32.615973</td>\n",
       "    </tr>\n",
       "    <tr>\n",
       "      <th>...</th>\n",
       "      <td>...</td>\n",
       "      <td>...</td>\n",
       "      <td>...</td>\n",
       "    </tr>\n",
       "    <tr>\n",
       "      <th>13321</th>\n",
       "      <td>6</td>\n",
       "      <td>45.880121</td>\n",
       "      <td>-39.880121</td>\n",
       "    </tr>\n",
       "    <tr>\n",
       "      <th>5252</th>\n",
       "      <td>74</td>\n",
       "      <td>68.426996</td>\n",
       "      <td>5.573004</td>\n",
       "    </tr>\n",
       "    <tr>\n",
       "      <th>12510</th>\n",
       "      <td>184</td>\n",
       "      <td>114.584601</td>\n",
       "      <td>69.415399</td>\n",
       "    </tr>\n",
       "    <tr>\n",
       "      <th>6842</th>\n",
       "      <td>64</td>\n",
       "      <td>69.544897</td>\n",
       "      <td>-5.544897</td>\n",
       "    </tr>\n",
       "    <tr>\n",
       "      <th>11262</th>\n",
       "      <td>46</td>\n",
       "      <td>68.732397</td>\n",
       "      <td>-22.732397</td>\n",
       "    </tr>\n",
       "  </tbody>\n",
       "</table>\n",
       "<p>5214 rows × 3 columns</p>\n",
       "</div>"
      ],
      "text/plain": [
       "       Actual Values  Predicted Values   Residual\n",
       "3439               4         39.497308 -35.497308\n",
       "6542               1         -9.717535  10.717535\n",
       "15470             81         50.395746  30.604254\n",
       "9851              45         46.094965  -1.094965\n",
       "12640             83         50.384027  32.615973\n",
       "...              ...               ...        ...\n",
       "13321              6         45.880121 -39.880121\n",
       "5252              74         68.426996   5.573004\n",
       "12510            184        114.584601  69.415399\n",
       "6842              64         69.544897  -5.544897\n",
       "11262             46         68.732397 -22.732397\n",
       "\n",
       "[5214 rows x 3 columns]"
      ]
     },
     "metadata": {},
     "output_type": "display_data"
    }
   ],
   "source": [
    "#making predection\n",
    "y_pred_lm1_train = lm1.predict(X_train1)\n",
    "y_pred_lm1_test = lm1.predict(X_test1)\n",
    "\n",
    "pred_lm1 = pd.DataFrame({'Actual Values':  y_test1, \n",
    "                        'Predicted Values': y_pred_lm1_test,\n",
    "                        'Residual': y_test1 - y_pred_lm1_test})\n",
    "display(pred_lm1)"
   ]
  },
  {
   "cell_type": "code",
   "execution_count": 61,
   "metadata": {},
   "outputs": [
    {
     "data": {
      "image/png": "[encoded data removed]",
      "text/plain": [
       "<Figure size 432x288 with 1 Axes>"
      ]
     },
     "metadata": {},
     "output_type": "display_data"
    }
   ],
   "source": [
    "# Plotting y_test and y_pred to understand the spread\n",
    "fig = plt.figure()\n",
    "plt.scatter(y_test1, y_pred_lm1_test, alpha=.5)\n",
    "fig.suptitle('Hourly: Actual vs Prediction', fontsize = 20)              # Plot heading \n",
    "plt.xlabel('y_test', fontsize = 18)                          # X-label\n",
    "plt.ylabel('y_pred', fontsize = 16) \n",
    "plt.show()"
   ]
  },
  {
   "cell_type": "code",
   "execution_count": 62,
   "metadata": {},
   "outputs": [
    {
     "name": "stdout",
     "output_type": "stream",
     "text": [
      "intercept:  35.83578133682749\n",
      "       Predictor   coefficient\n",
      "0           temp  1.288038e+01\n",
      "1          atemp  3.825044e+00\n",
      "2            hum -5.123480e+00\n",
      "3      windspeed -1.870091e+00\n",
      "4       season_2  3.827960e+00\n",
      "5       season_3  6.214612e-01\n",
      "6       season_4  1.401461e+00\n",
      "7      holiday_1 -6.893157e+12\n",
      "8           yr_1  5.958476e+00\n",
      "9         mnth_2 -4.992981e-01\n",
      "10        mnth_3  2.234985e+00\n",
      "11        mnth_4  2.092285e+00\n",
      "12        mnth_5  2.176117e+00\n",
      "13        mnth_6 -2.886963e-02\n",
      "14        mnth_7 -4.594727e-01\n",
      "15        mnth_8  7.957153e-01\n",
      "16        mnth_9  2.717651e+00\n",
      "17       mnth_10  3.760742e+00\n",
      "18       mnth_11  1.654175e+00\n",
      "19       mnth_12 -3.942871e-02\n",
      "20          hr_1 -3.367920e-01\n",
      "21          hr_2 -7.246094e-01\n",
      "22          hr_3 -1.202637e+00\n",
      "23          hr_4 -1.345825e+00\n",
      "24          hr_5 -9.399414e-01\n",
      "25          hr_6 -2.832031e-01\n",
      "26          hr_7  8.869019e-01\n",
      "27          hr_8  2.942017e+00\n",
      "28          hr_9  4.029846e+00\n",
      "29         hr_10  6.689392e+00\n",
      "30         hr_11  8.469849e+00\n",
      "31         hr_12  1.006140e+01\n",
      "32         hr_13  1.045898e+01\n",
      "33         hr_14  1.084485e+01\n",
      "34         hr_15  1.012305e+01\n",
      "35         hr_16  1.046790e+01\n",
      "36         hr_17  1.055566e+01\n",
      "37         hr_18  8.197021e+00\n",
      "38         hr_19  6.509399e+00\n",
      "39         hr_20  4.417419e+00\n",
      "40         hr_21  2.748291e+00\n",
      "41         hr_22  2.025269e+00\n",
      "42         hr_23  8.218994e-01\n",
      "43     weekday_1  1.410028e+13\n",
      "44     weekday_2  1.414840e+13\n",
      "45     weekday_3  1.430094e+13\n",
      "46     weekday_4  1.424708e+13\n",
      "47     weekday_5  1.416893e+13\n",
      "48     weekday_6  2.166046e+00\n",
      "49  workingday_1 -1.885627e+13\n",
      "50  weathersit_2 -1.489685e+00\n",
      "51  weathersit_3 -3.251770e+00\n",
      "52  weathersit_4 -8.727264e-02\n"
     ]
    }
   ],
   "source": [
    "# print coefficients\n",
    "print('intercept: ', lm1.intercept_)\n",
    "print(pd.DataFrame({'Predictor': X1.columns, 'coefficient': lm1.coef_}))"
   ]
  },
  {
   "cell_type": "code",
   "execution_count": 63,
   "metadata": {},
   "outputs": [
    {
     "name": "stdout",
     "output_type": "stream",
     "text": [
      "\n",
      "Regression statistics\n",
      "\n",
      "               Mean Error (ME) : -0.0014\n",
      "Root Mean Squared Error (RMSE) : 31.5823\n",
      "     Mean Absolute Error (MAE) : 21.8525\n",
      "\n",
      "Regression statistics\n",
      "\n",
      "               Mean Error (ME) : -0.8178\n",
      "Root Mean Squared Error (RMSE) : 31.6644\n",
      "     Mean Absolute Error (MAE) : 22.0407\n"
     ]
    }
   ],
   "source": [
    "# print performance measure\n",
    "regressionSummary(y_train1, y_pred_lm1_train)\n",
    "regressionSummary(y_test1, y_pred_lm1_test)"
   ]
  },
  {
   "cell_type": "markdown",
   "metadata": {},
   "source": [
    "**For Registered users**"
   ]
  },
  {
   "cell_type": "code",
   "execution_count": 64,
   "metadata": {
    "scrolled": false
   },
   "outputs": [
    {
     "data": {
      "text/html": [
       "<div>\n",
       "<style scoped>\n",
       "    .dataframe tbody tr th:only-of-type {\n",
       "        vertical-align: middle;\n",
       "    }\n",
       "\n",
       "    .dataframe tbody tr th {\n",
       "        vertical-align: top;\n",
       "    }\n",
       "\n",
       "    .dataframe thead th {\n",
       "        text-align: right;\n",
       "    }\n",
       "</style>\n",
       "<table border=\"1\" class=\"dataframe\">\n",
       "  <thead>\n",
       "    <tr style=\"text-align: right;\">\n",
       "      <th></th>\n",
       "      <th>Actual Values</th>\n",
       "      <th>Predicted Values</th>\n",
       "      <th>Residual</th>\n",
       "    </tr>\n",
       "  </thead>\n",
       "  <tbody>\n",
       "    <tr>\n",
       "      <th>3439</th>\n",
       "      <td>3</td>\n",
       "      <td>-15.669142</td>\n",
       "      <td>18.669142</td>\n",
       "    </tr>\n",
       "    <tr>\n",
       "      <th>6542</th>\n",
       "      <td>4</td>\n",
       "      <td>18.787890</td>\n",
       "      <td>-14.787890</td>\n",
       "    </tr>\n",
       "    <tr>\n",
       "      <th>15470</th>\n",
       "      <td>662</td>\n",
       "      <td>355.674608</td>\n",
       "      <td>306.325392</td>\n",
       "    </tr>\n",
       "    <tr>\n",
       "      <th>9851</th>\n",
       "      <td>163</td>\n",
       "      <td>82.682421</td>\n",
       "      <td>80.317579</td>\n",
       "    </tr>\n",
       "    <tr>\n",
       "      <th>12640</th>\n",
       "      <td>250</td>\n",
       "      <td>234.237108</td>\n",
       "      <td>15.762892</td>\n",
       "    </tr>\n",
       "    <tr>\n",
       "      <th>...</th>\n",
       "      <td>...</td>\n",
       "      <td>...</td>\n",
       "      <td>...</td>\n",
       "    </tr>\n",
       "    <tr>\n",
       "      <th>13321</th>\n",
       "      <td>29</td>\n",
       "      <td>101.580858</td>\n",
       "      <td>-72.580858</td>\n",
       "    </tr>\n",
       "    <tr>\n",
       "      <th>5252</th>\n",
       "      <td>497</td>\n",
       "      <td>392.635546</td>\n",
       "      <td>104.364454</td>\n",
       "    </tr>\n",
       "    <tr>\n",
       "      <th>12510</th>\n",
       "      <td>315</td>\n",
       "      <td>200.727156</td>\n",
       "      <td>114.272844</td>\n",
       "    </tr>\n",
       "    <tr>\n",
       "      <th>6842</th>\n",
       "      <td>238</td>\n",
       "      <td>254.265411</td>\n",
       "      <td>-16.265411</td>\n",
       "    </tr>\n",
       "    <tr>\n",
       "      <th>11262</th>\n",
       "      <td>183</td>\n",
       "      <td>210.562286</td>\n",
       "      <td>-27.562286</td>\n",
       "    </tr>\n",
       "  </tbody>\n",
       "</table>\n",
       "<p>5214 rows × 3 columns</p>\n",
       "</div>"
      ],
      "text/plain": [
       "       Actual Values  Predicted Values    Residual\n",
       "3439               3        -15.669142   18.669142\n",
       "6542               4         18.787890  -14.787890\n",
       "15470            662        355.674608  306.325392\n",
       "9851             163         82.682421   80.317579\n",
       "12640            250        234.237108   15.762892\n",
       "...              ...               ...         ...\n",
       "13321             29        101.580858  -72.580858\n",
       "5252             497        392.635546  104.364454\n",
       "12510            315        200.727156  114.272844\n",
       "6842             238        254.265411  -16.265411\n",
       "11262            183        210.562286  -27.562286\n",
       "\n",
       "[5214 rows x 3 columns]"
      ]
     },
     "metadata": {},
     "output_type": "display_data"
    }
   ],
   "source": [
    "y_pred_lm2_train = lm2.predict(X_train2)\n",
    "y_pred_lm2_test = lm2.predict(X_test2)\n",
    "\n",
    "\n",
    "pred_lm2 = pd.DataFrame({ 'Actual Values':  y_test2, \n",
    "                        'Predicted Values': y_pred_lm2_test,\n",
    "                        'Residual': y_test2 - y_pred_lm2_test})\n",
    "display(pred_lm2)"
   ]
  },
  {
   "cell_type": "code",
   "execution_count": 65,
   "metadata": {},
   "outputs": [
    {
     "data": {
      "image/png": "[encoded data removed]",
      "text/plain": [
       "<Figure size 432x288 with 1 Axes>"
      ]
     },
     "metadata": {},
     "output_type": "display_data"
    }
   ],
   "source": [
    "# Plotting y_test and y_pred to understand the spread\n",
    "fig = plt.figure()\n",
    "plt.scatter(y_test2, y_pred_lm2_test, alpha=.5)\n",
    "fig.suptitle('Hourly: Actual vs Prediction', fontsize = 20)              # Plot heading \n",
    "plt.xlabel('y_test', fontsize = 18)                          # X-label\n",
    "plt.ylabel('y_pred', fontsize = 16) \n",
    "plt.show()"
   ]
  },
  {
   "cell_type": "code",
   "execution_count": 66,
   "metadata": {},
   "outputs": [
    {
     "name": "stdout",
     "output_type": "stream",
     "text": [
      "intercept:  153.43979248545045\n",
      "       Predictor   coefficient\n",
      "0           temp  2.934465e+00\n",
      "1          atemp  2.120292e+01\n",
      "2            hum -9.696345e+00\n",
      "3      windspeed -1.172962e+00\n",
      "4       season_2  1.158295e+01\n",
      "5       season_3  1.194764e+01\n",
      "6       season_4  2.905608e+01\n",
      "7      holiday_1 -1.654513e+13\n",
      "8           yr_1  3.683928e+01\n",
      "9         mnth_2  2.332764e-01\n",
      "10        mnth_3  1.936279e+00\n",
      "11        mnth_4  9.355469e-01\n",
      "12        mnth_5  5.568848e+00\n",
      "13        mnth_6  4.599243e+00\n",
      "14        mnth_7 -3.850098e-01\n",
      "15        mnth_8  4.024658e+00\n",
      "16        mnth_9  7.733398e+00\n",
      "17       mnth_10  1.426758e+00\n",
      "18       mnth_11 -4.732666e+00\n",
      "19       mnth_12 -2.678223e+00\n",
      "20          hr_1 -2.996964e+00\n",
      "21          hr_2 -4.781982e+00\n",
      "22          hr_3 -6.435547e+00\n",
      "23          hr_4 -7.138184e+00\n",
      "24          hr_5 -4.199707e+00\n",
      "25          hr_6  7.245605e+00\n",
      "26          hr_7  3.227112e+01\n",
      "27          hr_8  6.114166e+01\n",
      "28          hr_9  2.845129e+01\n",
      "29         hr_10  1.500269e+01\n",
      "30         hr_11  1.896045e+01\n",
      "31         hr_12  2.565674e+01\n",
      "32         hr_13  2.427808e+01\n",
      "33         hr_14  2.049341e+01\n",
      "34         hr_15  2.238184e+01\n",
      "35         hr_16  3.501807e+01\n",
      "36         hr_17  6.458691e+01\n",
      "37         hr_18  6.085645e+01\n",
      "38         hr_19  4.122266e+01\n",
      "39         hr_20  2.794861e+01\n",
      "40         hr_21  1.863965e+01\n",
      "41         hr_22  1.245142e+01\n",
      "42         hr_23  5.249512e+00\n",
      "43     weekday_1  3.384386e+13\n",
      "44     weekday_2  3.395936e+13\n",
      "45     weekday_3  3.432550e+13\n",
      "46     weekday_4  3.419620e+13\n",
      "47     weekday_5  3.400862e+13\n",
      "48     weekday_6  4.995361e+00\n",
      "49  workingday_1 -4.525931e+13\n",
      "50  weathersit_2 -3.421753e+00\n",
      "51  weathersit_3 -1.530835e+01\n",
      "52  weathersit_4 -1.022934e+00\n"
     ]
    }
   ],
   "source": [
    "# print coefficients\n",
    "print('intercept: ', lm2.intercept_)\n",
    "print(pd.DataFrame({'Predictor': X2.columns, 'coefficient': lm2.coef_}))"
   ]
  },
  {
   "cell_type": "code",
   "execution_count": 67,
   "metadata": {},
   "outputs": [
    {
     "name": "stdout",
     "output_type": "stream",
     "text": [
      "\n",
      "Regression statistics\n",
      "\n",
      "               Mean Error (ME) : -0.0067\n",
      "Root Mean Squared Error (RMSE) : 84.8311\n",
      "     Mean Absolute Error (MAE) : 62.2214\n",
      "\n",
      "Regression statistics\n",
      "\n",
      "               Mean Error (ME) : 0.4114\n",
      "Root Mean Squared Error (RMSE) : 86.6197\n",
      "     Mean Absolute Error (MAE) : 63.6770\n"
     ]
    }
   ],
   "source": [
    "regressionSummary(y_train2, y_pred_lm2_train)\n",
    "regressionSummary(y_test2, y_pred_lm2_test)"
   ]
  },
  {
   "cell_type": "markdown",
   "metadata": {},
   "source": [
    "**For both causal and registered users**"
   ]
  },
  {
   "cell_type": "code",
   "execution_count": 68,
   "metadata": {},
   "outputs": [
    {
     "data": {
      "text/html": [
       "<div>\n",
       "<style scoped>\n",
       "    .dataframe tbody tr th:only-of-type {\n",
       "        vertical-align: middle;\n",
       "    }\n",
       "\n",
       "    .dataframe tbody tr th {\n",
       "        vertical-align: top;\n",
       "    }\n",
       "\n",
       "    .dataframe thead th {\n",
       "        text-align: right;\n",
       "    }\n",
       "</style>\n",
       "<table border=\"1\" class=\"dataframe\">\n",
       "  <thead>\n",
       "    <tr style=\"text-align: right;\">\n",
       "      <th></th>\n",
       "      <th>Actual Values</th>\n",
       "      <th>Predicted Values</th>\n",
       "      <th>Residual</th>\n",
       "    </tr>\n",
       "  </thead>\n",
       "  <tbody>\n",
       "    <tr>\n",
       "      <th>3439</th>\n",
       "      <td>7</td>\n",
       "      <td>23.886741</td>\n",
       "      <td>-16.886741</td>\n",
       "    </tr>\n",
       "    <tr>\n",
       "      <th>6542</th>\n",
       "      <td>5</td>\n",
       "      <td>8.964866</td>\n",
       "      <td>-3.964866</td>\n",
       "    </tr>\n",
       "    <tr>\n",
       "      <th>15470</th>\n",
       "      <td>743</td>\n",
       "      <td>406.050804</td>\n",
       "      <td>336.949196</td>\n",
       "    </tr>\n",
       "    <tr>\n",
       "      <th>9851</th>\n",
       "      <td>208</td>\n",
       "      <td>128.824241</td>\n",
       "      <td>79.175759</td>\n",
       "    </tr>\n",
       "    <tr>\n",
       "      <th>12640</th>\n",
       "      <td>333</td>\n",
       "      <td>284.597679</td>\n",
       "      <td>48.402321</td>\n",
       "    </tr>\n",
       "    <tr>\n",
       "      <th>...</th>\n",
       "      <td>...</td>\n",
       "      <td>...</td>\n",
       "      <td>...</td>\n",
       "    </tr>\n",
       "    <tr>\n",
       "      <th>13321</th>\n",
       "      <td>35</td>\n",
       "      <td>147.464866</td>\n",
       "      <td>-112.464866</td>\n",
       "    </tr>\n",
       "    <tr>\n",
       "      <th>5252</th>\n",
       "      <td>571</td>\n",
       "      <td>461.042991</td>\n",
       "      <td>109.957009</td>\n",
       "    </tr>\n",
       "    <tr>\n",
       "      <th>12510</th>\n",
       "      <td>499</td>\n",
       "      <td>315.287997</td>\n",
       "      <td>183.712003</td>\n",
       "    </tr>\n",
       "    <tr>\n",
       "      <th>6842</th>\n",
       "      <td>302</td>\n",
       "      <td>323.827564</td>\n",
       "      <td>-21.827564</td>\n",
       "    </tr>\n",
       "    <tr>\n",
       "      <th>11262</th>\n",
       "      <td>229</td>\n",
       "      <td>279.280689</td>\n",
       "      <td>-50.280689</td>\n",
       "    </tr>\n",
       "  </tbody>\n",
       "</table>\n",
       "<p>5214 rows × 3 columns</p>\n",
       "</div>"
      ],
      "text/plain": [
       "       Actual Values  Predicted Values    Residual\n",
       "3439               7         23.886741  -16.886741\n",
       "6542               5          8.964866   -3.964866\n",
       "15470            743        406.050804  336.949196\n",
       "9851             208        128.824241   79.175759\n",
       "12640            333        284.597679   48.402321\n",
       "...              ...               ...         ...\n",
       "13321             35        147.464866 -112.464866\n",
       "5252             571        461.042991  109.957009\n",
       "12510            499        315.287997  183.712003\n",
       "6842             302        323.827564  -21.827564\n",
       "11262            229        279.280689  -50.280689\n",
       "\n",
       "[5214 rows x 3 columns]"
      ]
     },
     "metadata": {},
     "output_type": "display_data"
    }
   ],
   "source": [
    "y_pred_lm3_train = lm3.predict(X_train3)\n",
    "y_pred_lm3_test = lm3.predict(X_test3)\n",
    "\n",
    "pred_lm3 = pd.DataFrame({ 'Actual Values':  y_test3, \n",
    "                        'Predicted Values': y_pred_lm3_test,\n",
    "                        'Residual': y_test3 - y_pred_lm3_test})\n",
    "display(pred_lm3)"
   ]
  },
  {
   "cell_type": "code",
   "execution_count": 69,
   "metadata": {},
   "outputs": [
    {
     "data": {
      "image/png": "[encoded data removed]",
      "text/plain": [
       "<Figure size 432x288 with 1 Axes>"
      ]
     },
     "metadata": {},
     "output_type": "display_data"
    }
   ],
   "source": [
    "# Plotting y_test and y_pred to understand the spread\n",
    "fig = plt.figure()\n",
    "plt.scatter(y_test3, y_pred_lm3_test, alpha=.5)\n",
    "fig.suptitle('Hourly: Actual vs Prediction', fontsize = 20)              # Plot heading \n",
    "plt.xlabel('y_test', fontsize = 18)                          # X-label\n",
    "plt.ylabel('y_pred', fontsize = 16) \n",
    "plt.show()"
   ]
  },
  {
   "cell_type": "code",
   "execution_count": 70,
   "metadata": {},
   "outputs": [
    {
     "name": "stdout",
     "output_type": "stream",
     "text": [
      "intercept:  189.27557382227795\n",
      "       Predictor   coefficient\n",
      "0           temp  1.581484e+01\n",
      "1          atemp  2.502589e+01\n",
      "2            hum -1.482172e+01\n",
      "3      windspeed -3.043565e+00\n",
      "4       season_2  1.541401e+01\n",
      "5       season_3  1.256986e+01\n",
      "6       season_4  3.045639e+01\n",
      "7      holiday_1 -2.343829e+13\n",
      "8           yr_1  4.280382e+01\n",
      "9         mnth_2 -2.631836e-01\n",
      "10        mnth_3  4.165283e+00\n",
      "11        mnth_4  3.029297e+00\n",
      "12        mnth_5  7.752228e+00\n",
      "13        mnth_6  4.568604e+00\n",
      "14        mnth_7 -8.461914e-01\n",
      "15        mnth_8  4.827637e+00\n",
      "16        mnth_9  1.044971e+01\n",
      "17       mnth_10  5.183594e+00\n",
      "18       mnth_11 -3.078125e+00\n",
      "19       mnth_12 -2.709961e+00\n",
      "20          hr_1 -3.336792e+00\n",
      "21          hr_2 -5.490234e+00\n",
      "22          hr_3 -7.642090e+00\n",
      "23          hr_4 -8.493652e+00\n",
      "24          hr_5 -5.132812e+00\n",
      "25          hr_6  6.963623e+00\n",
      "26          hr_7  3.314050e+01\n",
      "27          hr_8  6.407947e+01\n",
      "28          hr_9  3.248022e+01\n",
      "29         hr_10  2.169116e+01\n",
      "30         hr_11  2.742529e+01\n",
      "31         hr_12  3.571143e+01\n",
      "32         hr_13  3.475537e+01\n",
      "33         hr_14  3.131543e+01\n",
      "34         hr_15  3.251172e+01\n",
      "35         hr_16  4.549023e+01\n",
      "36         hr_17  7.514355e+01\n",
      "37         hr_18  6.905078e+01\n",
      "38         hr_19  4.773608e+01\n",
      "39         hr_20  3.236658e+01\n",
      "40         hr_21  2.138940e+01\n",
      "41         hr_22  1.447510e+01\n",
      "42         hr_23  6.074219e+00\n",
      "43     weekday_1  4.794414e+13\n",
      "44     weekday_2  4.810776e+13\n",
      "45     weekday_3  4.862644e+13\n",
      "46     weekday_4  4.844327e+13\n",
      "47     weekday_5  4.817755e+13\n",
      "48     weekday_6  7.163574e+00\n",
      "49  workingday_1 -6.411559e+13\n",
      "50  weathersit_2 -4.910156e+00\n",
      "51  weathersit_3 -1.856165e+01\n",
      "52  weathersit_4 -1.108994e+00\n"
     ]
    }
   ],
   "source": [
    "# print coefficients\n",
    "print('intercept: ', lm3.intercept_)\n",
    "print(pd.DataFrame({'Predictor': X3.columns, 'coefficient': lm3.coef_}))"
   ]
  },
  {
   "cell_type": "code",
   "execution_count": 71,
   "metadata": {},
   "outputs": [
    {
     "name": "stdout",
     "output_type": "stream",
     "text": [
      "\n",
      "Regression statistics\n",
      "\n",
      "                      Mean Error (ME) : 0.0050\n",
      "       Root Mean Squared Error (RMSE) : 101.2019\n",
      "            Mean Absolute Error (MAE) : 74.9873\n",
      "          Mean Percentage Error (MPE) : 58.2205\n",
      "Mean Absolute Percentage Error (MAPE) : 278.4738\n",
      "\n",
      "Regression statistics\n",
      "\n",
      "                      Mean Error (ME) : -0.3934\n",
      "       Root Mean Squared Error (RMSE) : 102.7886\n",
      "            Mean Absolute Error (MAE) : 76.4962\n",
      "          Mean Percentage Error (MPE) : 96.2814\n",
      "Mean Absolute Percentage Error (MAPE) : 317.3436\n"
     ]
    }
   ],
   "source": [
    "regressionSummary(y_train3, y_pred_lm3_train)\n",
    "regressionSummary(y_test3, y_pred_lm3_test)"
   ]
  },
  {
   "cell_type": "code",
   "execution_count": 72,
   "metadata": {},
   "outputs": [
    {
     "data": {
      "text/html": [
       "<div>\n",
       "<style scoped>\n",
       "    .dataframe tbody tr th:only-of-type {\n",
       "        vertical-align: middle;\n",
       "    }\n",
       "\n",
       "    .dataframe tbody tr th {\n",
       "        vertical-align: top;\n",
       "    }\n",
       "\n",
       "    .dataframe thead th {\n",
       "        text-align: right;\n",
       "    }\n",
       "</style>\n",
       "<table border=\"1\" class=\"dataframe\">\n",
       "  <thead>\n",
       "    <tr style=\"text-align: right;\">\n",
       "      <th></th>\n",
       "      <th>Casual</th>\n",
       "      <th>Registered</th>\n",
       "      <th>Total</th>\n",
       "    </tr>\n",
       "  </thead>\n",
       "  <tbody>\n",
       "    <tr>\n",
       "      <th>Train Set</th>\n",
       "      <td>0.590931</td>\n",
       "      <td>0.683172</td>\n",
       "      <td>0.686759</td>\n",
       "    </tr>\n",
       "    <tr>\n",
       "      <th>Test Set</th>\n",
       "      <td>0.575883</td>\n",
       "      <td>0.672251</td>\n",
       "      <td>0.676933</td>\n",
       "    </tr>\n",
       "  </tbody>\n",
       "</table>\n",
       "</div>"
      ],
      "text/plain": [
       "             Casual  Registered     Total\n",
       "Train Set  0.590931    0.683172  0.686759\n",
       "Test Set   0.575883    0.672251  0.676933"
      ]
     },
     "metadata": {},
     "output_type": "display_data"
    }
   ],
   "source": [
    "# print R-squared\n",
    "r2_score = pd.DataFrame([(adjusted_r2_score(y_train1, y_pred_lm1_train, lm1), \n",
    "                        adjusted_r2_score(y_train2, y_pred_lm2_train, lm2),\n",
    "                        adjusted_r2_score(y_train3, y_pred_lm3_train, lm3)),\n",
    "                       (adjusted_r2_score(y_test1, y_pred_lm1_test, lm1), \n",
    "                        adjusted_r2_score(y_test2, y_pred_lm2_test, lm2), \n",
    "                        adjusted_r2_score(y_test3, y_pred_lm3_test, lm3))],\n",
    "                  index = ['Train Set', 'Test Set'],\n",
    "                  columns=('Casual', 'Registered', 'Total'))\n",
    "display(r2_score)"
   ]
  },
  {
   "cell_type": "markdown",
   "metadata": {},
   "source": [
    "From the above results of the table, we could know that the REGISTERED users have the highest R squared that means it has the highest accuracy(68.32% > 59.09%). In reality, people buying monthly service of renting bikes are being more stable than those occasionally or randomly use rental service. Those registered users are lessly like to change their plan except specific factors happened, like special weather conditions, rain and snow, will adjust their travel plan. Comparably, the CASUAL has the lowest R-square users with low accuracy. So their behaviors are usually unpredictable. In general, the overall results attains 68.67%, and it is closely to the registered data, which is really good results."
   ]
  },
  {
   "cell_type": "markdown",
   "metadata": {},
   "source": [
    "### Data Preprocessing\n",
    "\n",
    "- Part2: day file"
   ]
  },
  {
   "cell_type": "code",
   "execution_count": 73,
   "metadata": {},
   "outputs": [
    {
     "data": {
      "text/html": [
       "<div>\n",
       "<style scoped>\n",
       "    .dataframe tbody tr th:only-of-type {\n",
       "        vertical-align: middle;\n",
       "    }\n",
       "\n",
       "    .dataframe tbody tr th {\n",
       "        vertical-align: top;\n",
       "    }\n",
       "\n",
       "    .dataframe thead th {\n",
       "        text-align: right;\n",
       "    }\n",
       "</style>\n",
       "<table border=\"1\" class=\"dataframe\">\n",
       "  <thead>\n",
       "    <tr style=\"text-align: right;\">\n",
       "      <th></th>\n",
       "      <th>Casual</th>\n",
       "      <th>Registered</th>\n",
       "      <th>cnt</th>\n",
       "    </tr>\n",
       "  </thead>\n",
       "  <tbody>\n",
       "    <tr>\n",
       "      <th>count</th>\n",
       "      <td>731.000000</td>\n",
       "      <td>731.000000</td>\n",
       "      <td>731.000000</td>\n",
       "    </tr>\n",
       "    <tr>\n",
       "      <th>mean</th>\n",
       "      <td>848.176471</td>\n",
       "      <td>3656.172367</td>\n",
       "      <td>4504.348837</td>\n",
       "    </tr>\n",
       "    <tr>\n",
       "      <th>std</th>\n",
       "      <td>686.622488</td>\n",
       "      <td>1560.256377</td>\n",
       "      <td>1937.211452</td>\n",
       "    </tr>\n",
       "    <tr>\n",
       "      <th>min</th>\n",
       "      <td>2.000000</td>\n",
       "      <td>20.000000</td>\n",
       "      <td>22.000000</td>\n",
       "    </tr>\n",
       "    <tr>\n",
       "      <th>25%</th>\n",
       "      <td>315.500000</td>\n",
       "      <td>2497.000000</td>\n",
       "      <td>3152.000000</td>\n",
       "    </tr>\n",
       "    <tr>\n",
       "      <th>50%</th>\n",
       "      <td>713.000000</td>\n",
       "      <td>3662.000000</td>\n",
       "      <td>4548.000000</td>\n",
       "    </tr>\n",
       "    <tr>\n",
       "      <th>75%</th>\n",
       "      <td>1096.000000</td>\n",
       "      <td>4776.500000</td>\n",
       "      <td>5956.000000</td>\n",
       "    </tr>\n",
       "    <tr>\n",
       "      <th>max</th>\n",
       "      <td>3410.000000</td>\n",
       "      <td>6946.000000</td>\n",
       "      <td>8714.000000</td>\n",
       "    </tr>\n",
       "  </tbody>\n",
       "</table>\n",
       "</div>"
      ],
      "text/plain": [
       "            Casual   Registered          cnt\n",
       "count   731.000000   731.000000   731.000000\n",
       "mean    848.176471  3656.172367  4504.348837\n",
       "std     686.622488  1560.256377  1937.211452\n",
       "min       2.000000    20.000000    22.000000\n",
       "25%     315.500000  2497.000000  3152.000000\n",
       "50%     713.000000  3662.000000  4548.000000\n",
       "75%    1096.000000  4776.500000  5956.000000\n",
       "max    3410.000000  6946.000000  8714.000000"
      ]
     },
     "metadata": {},
     "output_type": "display_data"
    }
   ],
   "source": [
    "day = day_raw.copy()\n",
    "info1 = pd.DataFrame(columns=('Casual', 'Registered', 'cnt'))\n",
    "info1['Casual'] = day['casual'].describe()\n",
    "info1['Registered'] = day['registered'].describe()\n",
    "info1['cnt'] = day['cnt'].describe()\n",
    "display(info1)"
   ]
  },
  {
   "cell_type": "code",
   "execution_count": 74,
   "metadata": {},
   "outputs": [],
   "source": [
    "category_features1 = ['season', 'holiday', 'yr', 'mnth', 'weekday', 'workingday', 'weathersit']\n",
    "number_features1 = ['temp', 'atemp', 'hum', 'windspeed']\n",
    "day[category_features1] = day[category_features1].astype('category')"
   ]
  },
  {
   "cell_type": "code",
   "execution_count": 75,
   "metadata": {},
   "outputs": [
    {
     "data": {
      "text/plain": [
       "instant          int64\n",
       "dteday          object\n",
       "season        category\n",
       "yr            category\n",
       "mnth          category\n",
       "holiday       category\n",
       "weekday       category\n",
       "workingday    category\n",
       "weathersit    category\n",
       "temp           float64\n",
       "atemp          float64\n",
       "hum            float64\n",
       "windspeed      float64\n",
       "casual           int64\n",
       "registered       int64\n",
       "cnt              int64\n",
       "dtype: object"
      ]
     },
     "execution_count": 75,
     "metadata": {},
     "output_type": "execute_result"
    }
   ],
   "source": [
    "day.dtypes"
   ]
  },
  {
   "cell_type": "code",
   "execution_count": 76,
   "metadata": {},
   "outputs": [
    {
     "name": "stdout",
     "output_type": "stream",
     "text": [
      "    season holiday yr mnth weekday workingday weathersit\n",
      "0        1       0  0    1       6          0          2\n",
      "1        1       0  0    1       0          0          2\n",
      "2        1       0  0    1       1          1          1\n",
      "3        1       0  0    1       2          1          1\n",
      "4        1       0  0    1       3          1          1\n",
      "..     ...     ... ..  ...     ...        ...        ...\n",
      "726      1       0  1   12       4          1          2\n",
      "727      1       0  1   12       5          1          2\n",
      "728      1       0  1   12       6          0          2\n",
      "729      1       0  1   12       0          0          1\n",
      "730      1       0  1   12       1          1          2\n",
      "\n",
      "[731 rows x 7 columns]\n"
     ]
    }
   ],
   "source": [
    "print(day[category_features1].astype('category'))"
   ]
  },
  {
   "cell_type": "code",
   "execution_count": 77,
   "metadata": {},
   "outputs": [],
   "source": [
    "features1 = category_features1 + number_features1"
   ]
  },
  {
   "cell_type": "code",
   "execution_count": 78,
   "metadata": {},
   "outputs": [],
   "source": [
    "target = ['casual','registered','cnt']\n",
    "y_day = day[target]"
   ]
  },
  {
   "cell_type": "code",
   "execution_count": 79,
   "metadata": {},
   "outputs": [
    {
     "data": {
      "image/png": "[encoded data removed]",
      "text/plain": [
       "<Figure size 792x360 with 1 Axes>"
      ]
     },
     "metadata": {},
     "output_type": "display_data"
    }
   ],
   "source": [
    "plt.figure(figsize=(11,5))\n",
    "sns.barplot('weekday','casual',hue='season', data=hour, palette='rainbow', ci=None)\n",
    "plt.xlabel('Week day')\n",
    "plt.ylabel('Total number of bikes rented on Casual basis')\n",
    "plt.title('Number of bikes rented per season')\n",
    "plt.show()"
   ]
  },
  {
   "cell_type": "code",
   "execution_count": 80,
   "metadata": {
    "scrolled": false
   },
   "outputs": [
    {
     "data": {
      "text/plain": [
       "Text(0.5, 1.0, 'Number of bikes rented per season')"
      ]
     },
     "execution_count": 80,
     "metadata": {},
     "output_type": "execute_result"
    },
    {
     "data": {
      "image/png": "[encoded data removed]",
      "text/plain": [
       "<Figure size 792x360 with 1 Axes>"
      ]
     },
     "metadata": {},
     "output_type": "display_data"
    }
   ],
   "source": [
    "plt.figure(figsize=(11,5))\n",
    "sns.barplot('weekday','registered', hue='season', data=hour, palette='rainbow', ci=None)\n",
    "plt.xlabel('Week day')\n",
    "plt.ylabel('Total number of bikes rented on Registered basis')\n",
    "plt.title('Number of bikes rented per season')"
   ]
  },
  {
   "cell_type": "markdown",
   "metadata": {},
   "source": [
    "From these two plots above, we could know that casual users and registered users behaved differently in workday due to seasons and weathers. As the graph showed, casual users are more likely to use bike rental service in spring and summer(season 2&3), while they are less likely to use the bike service in winter(season 1). For the registered users, they prefer using the bike rental service in summer, Fall, and spring(season 2&3&4), but the numbers of users are still higher than causal in winter(season1)."
   ]
  },
  {
   "cell_type": "markdown",
   "metadata": {},
   "source": [
    "### Correlation Matrix"
   ]
  },
  {
   "cell_type": "code",
   "execution_count": 81,
   "metadata": {
    "scrolled": false
   },
   "outputs": [
    {
     "data": {
      "image/png": "[encoded data removed]",
      "text/plain": [
       "<Figure size 1080x720 with 2 Axes>"
      ]
     },
     "metadata": {},
     "output_type": "display_data"
    }
   ],
   "source": [
    "plt.figure(figsize = (15,10))\n",
    "sns.heatmap(day.corr(), annot = True, cmap=\"RdBu\")\n",
    "plt.show()"
   ]
  },
  {
   "cell_type": "code",
   "execution_count": 82,
   "metadata": {
    "scrolled": false
   },
   "outputs": [
    {
     "data": {
      "text/plain": [
       "<matplotlib.axes._subplots.AxesSubplot at 0x2a1decde4c0>"
      ]
     },
     "execution_count": 82,
     "metadata": {},
     "output_type": "execute_result"
    },
    {
     "data": {
      "image/png": "[encoded data removed]",
      "text/plain": [
       "<Figure size 1440x720 with 2 Axes>"
      ]
     },
     "metadata": {},
     "output_type": "display_data"
    }
   ],
   "source": [
    "matrix2 = day[features1].corr()\n",
    "heat2 = np.array(matrix2)\n",
    "heat2[np.tril_indices_from(heat2)] = False\n",
    "fig,ax= plt.subplots()\n",
    "fig.set_size_inches(20,10)\n",
    "sns.set(font_scale=1.0)\n",
    "sns.heatmap(matrix2, mask=heat2,vmax=1.0, vmin=0.0, square=True,annot=True, cmap=\"Reds\")"
   ]
  },
  {
   "cell_type": "markdown",
   "metadata": {},
   "source": [
    "- Same as hourly data, Casual and registered also contain direct information about the bike sharing count which is to predict. Therefore they are not considered in the features.\n",
    "- The variables \"temp\" and \"atemp\" are also strongly correlated."
   ]
  },
  {
   "cell_type": "code",
   "execution_count": 83,
   "metadata": {},
   "outputs": [],
   "source": [
    "# One hot encoding on categorical columns\n",
    "X4 = pd.get_dummies(day[features1], drop_first=True)\n",
    "X5 = pd.get_dummies(day[features1], drop_first=True)\n",
    "X6 = pd.get_dummies(day[features1], drop_first=True)"
   ]
  },
  {
   "cell_type": "code",
   "execution_count": 84,
   "metadata": {},
   "outputs": [
    {
     "name": "stdout",
     "output_type": "stream",
     "text": [
      "X train shape (511, 29)\n",
      "X test shape (220, 29)\n",
      "y train shape (511,)\n",
      "y test shape (220,)\n"
     ]
    }
   ],
   "source": [
    "X_train4, X_test4, y_train4, y_test4 = train_test_split(X4, y_day.casual, test_size = 0.3, random_state = 0)\n",
    "print(f\"X train shape {X_train4.shape}\")\n",
    "print(f\"X test shape {X_test4.shape}\")\n",
    "print(f\"y train shape {y_train4.shape}\")\n",
    "print(f\"y test shape {y_test4.shape}\")"
   ]
  },
  {
   "cell_type": "code",
   "execution_count": 85,
   "metadata": {},
   "outputs": [
    {
     "name": "stdout",
     "output_type": "stream",
     "text": [
      "X train shape (511, 29)\n",
      "X test shape (220, 29)\n",
      "y train shape (511,)\n",
      "y test shape (220,)\n"
     ]
    }
   ],
   "source": [
    "X_train5, X_test5, y_train5, y_test5 = train_test_split(X5, y_day.registered, test_size = 0.3, random_state = 0)\n",
    "print(f\"X train shape {X_train5.shape}\")\n",
    "print(f\"X test shape {X_test5.shape}\")\n",
    "print(f\"y train shape {y_train5.shape}\")\n",
    "print(f\"y test shape {y_test5.shape}\")"
   ]
  },
  {
   "cell_type": "code",
   "execution_count": 86,
   "metadata": {},
   "outputs": [
    {
     "name": "stdout",
     "output_type": "stream",
     "text": [
      "X train shape (511, 29)\n",
      "X test shape (220, 29)\n",
      "y train shape (511,)\n",
      "y test shape (220,)\n"
     ]
    }
   ],
   "source": [
    "X_train6, X_test6, y_train6, y_test6 = train_test_split(X6, y_day.cnt, test_size = 0.3, random_state = 0)\n",
    "print(f\"X train shape {X_train6.shape}\")\n",
    "print(f\"X test shape {X_test6.shape}\")\n",
    "print(f\"y train shape {y_train6.shape}\")\n",
    "print(f\"y test shape {y_test6.shape}\")"
   ]
  },
  {
   "cell_type": "code",
   "execution_count": 87,
   "metadata": {},
   "outputs": [],
   "source": [
    "stdscaler = preprocessing.StandardScaler()"
   ]
  },
  {
   "cell_type": "code",
   "execution_count": 88,
   "metadata": {},
   "outputs": [
    {
     "name": "stdout",
     "output_type": "stream",
     "text": [
      "X train shape and X test shape ((511, 29), (220, 29))\n"
     ]
    }
   ],
   "source": [
    "X_train4 = stdscaler.fit_transform(X_train4)\n",
    "X_test4 = stdscaler.transform(X_test4)\n",
    "print(f\"X train shape and X test shape {X_train4.shape, X_test4.shape}\")"
   ]
  },
  {
   "cell_type": "code",
   "execution_count": 89,
   "metadata": {},
   "outputs": [
    {
     "name": "stdout",
     "output_type": "stream",
     "text": [
      "X train shape and X test shape ((511, 29), (220, 29))\n"
     ]
    }
   ],
   "source": [
    "X_train5 = stdscaler.fit_transform(X_train5)\n",
    "X_test5 = stdscaler.transform(X_test5)\n",
    "print(f\"X train shape and X test shape {X_train5.shape, X_test5.shape}\")"
   ]
  },
  {
   "cell_type": "code",
   "execution_count": 90,
   "metadata": {},
   "outputs": [
    {
     "name": "stdout",
     "output_type": "stream",
     "text": [
      "X train shape and X test shape ((511, 29), (220, 29))\n"
     ]
    }
   ],
   "source": [
    "X_train6 = stdscaler.fit_transform(X_train6)\n",
    "X_test6 = stdscaler.transform(X_test6)\n",
    "print(f\"X train shape and X test shape {X_train6.shape, X_test6.shape}\")"
   ]
  },
  {
   "cell_type": "markdown",
   "metadata": {},
   "source": [
    "### Linear Regression Model"
   ]
  },
  {
   "cell_type": "code",
   "execution_count": 91,
   "metadata": {},
   "outputs": [],
   "source": [
    "#lm = LinearRegression()\n",
    "#training model in training set\n",
    "lm4 = LinearRegression().fit(X_train4, y_train4)\n",
    "lm5 = LinearRegression().fit(X_train5, y_train5)\n",
    "lm6 = LinearRegression().fit(X_train6, y_train6)"
   ]
  },
  {
   "cell_type": "markdown",
   "metadata": {},
   "source": [
    "**For Casual users**"
   ]
  },
  {
   "cell_type": "code",
   "execution_count": 92,
   "metadata": {},
   "outputs": [
    {
     "data": {
      "text/html": [
       "<div>\n",
       "<style scoped>\n",
       "    .dataframe tbody tr th:only-of-type {\n",
       "        vertical-align: middle;\n",
       "    }\n",
       "\n",
       "    .dataframe tbody tr th {\n",
       "        vertical-align: top;\n",
       "    }\n",
       "\n",
       "    .dataframe thead th {\n",
       "        text-align: right;\n",
       "    }\n",
       "</style>\n",
       "<table border=\"1\" class=\"dataframe\">\n",
       "  <thead>\n",
       "    <tr style=\"text-align: right;\">\n",
       "      <th></th>\n",
       "      <th>Actual Values</th>\n",
       "      <th>Predicted Values</th>\n",
       "      <th>Residual</th>\n",
       "    </tr>\n",
       "  </thead>\n",
       "  <tbody>\n",
       "    <tr>\n",
       "      <th>196</th>\n",
       "      <td>2418</td>\n",
       "      <td>1623.091195</td>\n",
       "      <td>794.908805</td>\n",
       "    </tr>\n",
       "    <tr>\n",
       "      <th>187</th>\n",
       "      <td>754</td>\n",
       "      <td>895.083733</td>\n",
       "      <td>-141.083733</td>\n",
       "    </tr>\n",
       "    <tr>\n",
       "      <th>14</th>\n",
       "      <td>222</td>\n",
       "      <td>724.799508</td>\n",
       "      <td>-502.799508</td>\n",
       "    </tr>\n",
       "    <tr>\n",
       "      <th>31</th>\n",
       "      <td>47</td>\n",
       "      <td>-389.358260</td>\n",
       "      <td>436.358260</td>\n",
       "    </tr>\n",
       "    <tr>\n",
       "      <th>390</th>\n",
       "      <td>244</td>\n",
       "      <td>245.479112</td>\n",
       "      <td>-1.479112</td>\n",
       "    </tr>\n",
       "    <tr>\n",
       "      <th>...</th>\n",
       "      <td>...</td>\n",
       "      <td>...</td>\n",
       "      <td>...</td>\n",
       "    </tr>\n",
       "    <tr>\n",
       "      <th>391</th>\n",
       "      <td>269</td>\n",
       "      <td>219.233814</td>\n",
       "      <td>49.766186</td>\n",
       "    </tr>\n",
       "    <tr>\n",
       "      <th>571</th>\n",
       "      <td>1383</td>\n",
       "      <td>1203.497603</td>\n",
       "      <td>179.502397</td>\n",
       "    </tr>\n",
       "    <tr>\n",
       "      <th>306</th>\n",
       "      <td>318</td>\n",
       "      <td>306.318210</td>\n",
       "      <td>11.681790</td>\n",
       "    </tr>\n",
       "    <tr>\n",
       "      <th>200</th>\n",
       "      <td>644</td>\n",
       "      <td>922.135244</td>\n",
       "      <td>-278.135244</td>\n",
       "    </tr>\n",
       "    <tr>\n",
       "      <th>235</th>\n",
       "      <td>949</td>\n",
       "      <td>648.516520</td>\n",
       "      <td>300.483480</td>\n",
       "    </tr>\n",
       "  </tbody>\n",
       "</table>\n",
       "<p>220 rows × 3 columns</p>\n",
       "</div>"
      ],
      "text/plain": [
       "     Actual Values  Predicted Values    Residual\n",
       "196           2418       1623.091195  794.908805\n",
       "187            754        895.083733 -141.083733\n",
       "14             222        724.799508 -502.799508\n",
       "31              47       -389.358260  436.358260\n",
       "390            244        245.479112   -1.479112\n",
       "..             ...               ...         ...\n",
       "391            269        219.233814   49.766186\n",
       "571           1383       1203.497603  179.502397\n",
       "306            318        306.318210   11.681790\n",
       "200            644        922.135244 -278.135244\n",
       "235            949        648.516520  300.483480\n",
       "\n",
       "[220 rows x 3 columns]"
      ]
     },
     "metadata": {},
     "output_type": "display_data"
    }
   ],
   "source": [
    "#making predection\n",
    "y_pred_lm4_train = lm4.predict(X_train4)\n",
    "y_pred_lm4_test = lm4.predict(X_test4)\n",
    "\n",
    "pred_lm4 = pd.DataFrame({'Actual Values':  y_test4, \n",
    "                        'Predicted Values': y_pred_lm4_test,\n",
    "                        'Residual': y_test4 - y_pred_lm4_test})\n",
    "display(pred_lm4)"
   ]
  },
  {
   "cell_type": "code",
   "execution_count": 93,
   "metadata": {},
   "outputs": [
    {
     "data": {
      "image/png": "[encoded data removed]",
      "text/plain": [
       "<Figure size 432x288 with 1 Axes>"
      ]
     },
     "metadata": {},
     "output_type": "display_data"
    }
   ],
   "source": [
    "# Plotting y_test and y_pred to understand the spread\n",
    "fig = plt.figure()\n",
    "plt.scatter(y_test4, y_pred_lm4_test, alpha=.5)\n",
    "fig.suptitle('Daily: Actual vs Prediction', fontsize = 20)              # Plot heading \n",
    "plt.xlabel('y_test', fontsize = 18)                          # X-label\n",
    "plt.ylabel('y_pred', fontsize = 16) \n",
    "plt.show()"
   ]
  },
  {
   "cell_type": "code",
   "execution_count": 94,
   "metadata": {},
   "outputs": [
    {
     "name": "stdout",
     "output_type": "stream",
     "text": [
      "intercept:  835.7964774951078\n",
      "       Predictor  coefficient\n",
      "0           temp   419.537087\n",
      "1          atemp   -96.453291\n",
      "2            hum   -76.775101\n",
      "3      windspeed   -97.366901\n",
      "4       season_2   109.721091\n",
      "5       season_3    74.455615\n",
      "6       season_4    24.177447\n",
      "7      holiday_1   -19.125752\n",
      "8           yr_1   124.831377\n",
      "9         mnth_2   -18.271101\n",
      "10        mnth_3    70.386347\n",
      "11        mnth_4    33.761499\n",
      "12        mnth_5    36.361397\n",
      "13        mnth_6   -14.906909\n",
      "14        mnth_7    -4.817433\n",
      "15        mnth_8    -6.976262\n",
      "16        mnth_9    49.049752\n",
      "17       mnth_10   105.677718\n",
      "18       mnth_11    32.160398\n",
      "19       mnth_12    -0.068335\n",
      "20     weekday_1   -67.826734\n",
      "21     weekday_2  -102.306369\n",
      "22     weekday_3   -86.760441\n",
      "23     weekday_4   -83.256807\n",
      "24     weekday_5   -32.832185\n",
      "25     weekday_6     7.657302\n",
      "26  workingday_1  -279.518395\n",
      "27  weathersit_2   -27.985445\n",
      "28  weathersit_3   -38.500106\n"
     ]
    }
   ],
   "source": [
    "# print coefficients\n",
    "print('intercept: ', lm4.intercept_)\n",
    "print(pd.DataFrame({'Predictor': X4.columns, 'coefficient': lm4.coef_}))"
   ]
  },
  {
   "cell_type": "code",
   "execution_count": 95,
   "metadata": {},
   "outputs": [
    {
     "name": "stdout",
     "output_type": "stream",
     "text": [
      "\n",
      "Regression statistics\n",
      "\n",
      "                      Mean Error (ME) : -0.0000\n",
      "       Root Mean Squared Error (RMSE) : 342.6644\n",
      "            Mean Absolute Error (MAE) : 247.1981\n",
      "          Mean Percentage Error (MPE) : -8.0039\n",
      "Mean Absolute Percentage Error (MAPE) : 115.2565\n",
      "\n",
      "Regression statistics\n",
      "\n",
      "                      Mean Error (ME) : -1.4619\n",
      "       Root Mean Squared Error (RMSE) : 375.4396\n",
      "            Mean Absolute Error (MAE) : 271.7488\n",
      "          Mean Percentage Error (MPE) : 12.7679\n",
      "Mean Absolute Percentage Error (MAPE) : 102.5827\n"
     ]
    }
   ],
   "source": [
    "# print performance measure\n",
    "regressionSummary(y_train4, y_pred_lm4_train)\n",
    "regressionSummary(y_test4, y_pred_lm4_test)"
   ]
  },
  {
   "cell_type": "markdown",
   "metadata": {},
   "source": [
    "**For Registered users**"
   ]
  },
  {
   "cell_type": "code",
   "execution_count": 96,
   "metadata": {},
   "outputs": [
    {
     "data": {
      "text/html": [
       "<div>\n",
       "<style scoped>\n",
       "    .dataframe tbody tr th:only-of-type {\n",
       "        vertical-align: middle;\n",
       "    }\n",
       "\n",
       "    .dataframe tbody tr th {\n",
       "        vertical-align: top;\n",
       "    }\n",
       "\n",
       "    .dataframe thead th {\n",
       "        text-align: right;\n",
       "    }\n",
       "</style>\n",
       "<table border=\"1\" class=\"dataframe\">\n",
       "  <thead>\n",
       "    <tr style=\"text-align: right;\">\n",
       "      <th></th>\n",
       "      <th>Actual Values</th>\n",
       "      <th>Predicted Values</th>\n",
       "      <th>Residual</th>\n",
       "    </tr>\n",
       "  </thead>\n",
       "  <tbody>\n",
       "    <tr>\n",
       "      <th>196</th>\n",
       "      <td>3505</td>\n",
       "      <td>2744.041346</td>\n",
       "      <td>760.958654</td>\n",
       "    </tr>\n",
       "    <tr>\n",
       "      <th>187</th>\n",
       "      <td>3838</td>\n",
       "      <td>3819.136735</td>\n",
       "      <td>18.863265</td>\n",
       "    </tr>\n",
       "    <tr>\n",
       "      <th>14</th>\n",
       "      <td>1026</td>\n",
       "      <td>780.718060</td>\n",
       "      <td>245.281940</td>\n",
       "    </tr>\n",
       "    <tr>\n",
       "      <th>31</th>\n",
       "      <td>1313</td>\n",
       "      <td>1466.661113</td>\n",
       "      <td>-153.661113</td>\n",
       "    </tr>\n",
       "    <tr>\n",
       "      <th>390</th>\n",
       "      <td>3831</td>\n",
       "      <td>3497.892660</td>\n",
       "      <td>333.107340</td>\n",
       "    </tr>\n",
       "    <tr>\n",
       "      <th>...</th>\n",
       "      <td>...</td>\n",
       "      <td>...</td>\n",
       "      <td>...</td>\n",
       "    </tr>\n",
       "    <tr>\n",
       "      <th>391</th>\n",
       "      <td>3187</td>\n",
       "      <td>3068.960282</td>\n",
       "      <td>118.039718</td>\n",
       "    </tr>\n",
       "    <tr>\n",
       "      <th>571</th>\n",
       "      <td>6790</td>\n",
       "      <td>5575.500759</td>\n",
       "      <td>1214.499241</td>\n",
       "    </tr>\n",
       "    <tr>\n",
       "      <th>306</th>\n",
       "      <td>3656</td>\n",
       "      <td>3398.883786</td>\n",
       "      <td>257.116214</td>\n",
       "    </tr>\n",
       "    <tr>\n",
       "      <th>200</th>\n",
       "      <td>3688</td>\n",
       "      <td>3899.806643</td>\n",
       "      <td>-211.806643</td>\n",
       "    </tr>\n",
       "    <tr>\n",
       "      <th>235</th>\n",
       "      <td>4181</td>\n",
       "      <td>3820.794604</td>\n",
       "      <td>360.205396</td>\n",
       "    </tr>\n",
       "  </tbody>\n",
       "</table>\n",
       "<p>220 rows × 3 columns</p>\n",
       "</div>"
      ],
      "text/plain": [
       "     Actual Values  Predicted Values     Residual\n",
       "196           3505       2744.041346   760.958654\n",
       "187           3838       3819.136735    18.863265\n",
       "14            1026        780.718060   245.281940\n",
       "31            1313       1466.661113  -153.661113\n",
       "390           3831       3497.892660   333.107340\n",
       "..             ...               ...          ...\n",
       "391           3187       3068.960282   118.039718\n",
       "571           6790       5575.500759  1214.499241\n",
       "306           3656       3398.883786   257.116214\n",
       "200           3688       3899.806643  -211.806643\n",
       "235           4181       3820.794604   360.205396\n",
       "\n",
       "[220 rows x 3 columns]"
      ]
     },
     "metadata": {},
     "output_type": "display_data"
    }
   ],
   "source": [
    "y_pred_lm5_train = lm5.predict(X_train5)\n",
    "y_pred_lm5_test = lm5.predict(X_test5)\n",
    "\n",
    "\n",
    "pred_lm5 = pd.DataFrame({ 'Actual Values':  y_test5, \n",
    "                        'Predicted Values': y_pred_lm5_test,\n",
    "                        'Residual': y_test5 - y_pred_lm5_test})\n",
    "display(pred_lm5)"
   ]
  },
  {
   "cell_type": "code",
   "execution_count": 97,
   "metadata": {},
   "outputs": [
    {
     "data": {
      "image/png": "[encoded data removed]",
      "text/plain": [
       "<Figure size 432x288 with 1 Axes>"
      ]
     },
     "metadata": {},
     "output_type": "display_data"
    }
   ],
   "source": [
    "# Plotting y_test and y_pred to understand the spread\n",
    "fig = plt.figure()\n",
    "plt.scatter(y_test5, y_pred_lm5_test, alpha=.5)\n",
    "fig.suptitle('Daily: Actual vs Prediction', fontsize = 20)              # Plot heading \n",
    "plt.xlabel('y_test', fontsize = 18)                          # X-label\n",
    "plt.ylabel('y_pred', fontsize = 16) \n",
    "plt.show()"
   ]
  },
  {
   "cell_type": "code",
   "execution_count": 98,
   "metadata": {},
   "outputs": [
    {
     "name": "stdout",
     "output_type": "stream",
     "text": [
      "intercept:  3652.1428571428573\n",
      "       Predictor  coefficient\n",
      "0           temp   313.499638\n",
      "1          atemp   263.033419\n",
      "2            hum  -182.133937\n",
      "3      windspeed  -158.963885\n",
      "4       season_2   273.290217\n",
      "5       season_3   362.981308\n",
      "6       season_4   639.261672\n",
      "7      holiday_1   -16.234191\n",
      "8           yr_1   833.210133\n",
      "9         mnth_2    47.949965\n",
      "10        mnth_3    75.762145\n",
      "11        mnth_4    54.700708\n",
      "12        mnth_5   136.216941\n",
      "13        mnth_6    38.070783\n",
      "14        mnth_7   -79.934372\n",
      "15        mnth_8    32.443235\n",
      "16        mnth_9   158.254651\n",
      "17       mnth_10    24.888737\n",
      "18       mnth_11   -94.197773\n",
      "19       mnth_12   -21.347425\n",
      "20     weekday_1    31.431437\n",
      "21     weekday_2   110.789730\n",
      "22     weekday_3   107.026268\n",
      "23     weekday_4   128.180224\n",
      "24     weekday_5    76.200319\n",
      "25     weekday_6    90.594898\n",
      "26  workingday_1   353.853795\n",
      "27  weathersit_2  -123.743289\n",
      "28  weathersit_3  -240.398062\n"
     ]
    }
   ],
   "source": [
    "# print coefficients\n",
    "print('intercept: ', lm5.intercept_)\n",
    "print(pd.DataFrame({'Predictor': X5.columns, 'coefficient': lm5.coef_}))"
   ]
  },
  {
   "cell_type": "code",
   "execution_count": 99,
   "metadata": {},
   "outputs": [
    {
     "name": "stdout",
     "output_type": "stream",
     "text": [
      "\n",
      "Regression statistics\n",
      "\n",
      "                      Mean Error (ME) : -0.0000\n",
      "       Root Mean Squared Error (RMSE) : 607.6123\n",
      "            Mean Absolute Error (MAE) : 440.3748\n",
      "          Mean Percentage Error (MPE) : -33.9825\n",
      "Mean Absolute Percentage Error (MAPE) : 47.4482\n",
      "\n",
      "Regression statistics\n",
      "\n",
      "                      Mean Error (ME) : 52.5850\n",
      "       Root Mean Squared Error (RMSE) : 594.1973\n",
      "            Mean Absolute Error (MAE) : 453.5962\n",
      "          Mean Percentage Error (MPE) : -2.9874\n",
      "Mean Absolute Percentage Error (MAPE) : 17.2068\n"
     ]
    }
   ],
   "source": [
    "regressionSummary(y_train5, y_pred_lm5_train)\n",
    "regressionSummary(y_test5, y_pred_lm5_test)"
   ]
  },
  {
   "cell_type": "markdown",
   "metadata": {},
   "source": [
    "**For both causal and registered users**"
   ]
  },
  {
   "cell_type": "code",
   "execution_count": 100,
   "metadata": {},
   "outputs": [
    {
     "data": {
      "text/html": [
       "<div>\n",
       "<style scoped>\n",
       "    .dataframe tbody tr th:only-of-type {\n",
       "        vertical-align: middle;\n",
       "    }\n",
       "\n",
       "    .dataframe tbody tr th {\n",
       "        vertical-align: top;\n",
       "    }\n",
       "\n",
       "    .dataframe thead th {\n",
       "        text-align: right;\n",
       "    }\n",
       "</style>\n",
       "<table border=\"1\" class=\"dataframe\">\n",
       "  <thead>\n",
       "    <tr style=\"text-align: right;\">\n",
       "      <th></th>\n",
       "      <th>Actual Values</th>\n",
       "      <th>Predicted Values</th>\n",
       "      <th>Residual</th>\n",
       "    </tr>\n",
       "  </thead>\n",
       "  <tbody>\n",
       "    <tr>\n",
       "      <th>196</th>\n",
       "      <td>5923</td>\n",
       "      <td>4367.132541</td>\n",
       "      <td>1555.867459</td>\n",
       "    </tr>\n",
       "    <tr>\n",
       "      <th>187</th>\n",
       "      <td>4592</td>\n",
       "      <td>4714.220468</td>\n",
       "      <td>-122.220468</td>\n",
       "    </tr>\n",
       "    <tr>\n",
       "      <th>14</th>\n",
       "      <td>1248</td>\n",
       "      <td>1505.517568</td>\n",
       "      <td>-257.517568</td>\n",
       "    </tr>\n",
       "    <tr>\n",
       "      <th>31</th>\n",
       "      <td>1360</td>\n",
       "      <td>1077.302853</td>\n",
       "      <td>282.697147</td>\n",
       "    </tr>\n",
       "    <tr>\n",
       "      <th>390</th>\n",
       "      <td>4075</td>\n",
       "      <td>3743.371772</td>\n",
       "      <td>331.628228</td>\n",
       "    </tr>\n",
       "    <tr>\n",
       "      <th>...</th>\n",
       "      <td>...</td>\n",
       "      <td>...</td>\n",
       "      <td>...</td>\n",
       "    </tr>\n",
       "    <tr>\n",
       "      <th>391</th>\n",
       "      <td>3456</td>\n",
       "      <td>3288.194096</td>\n",
       "      <td>167.805904</td>\n",
       "    </tr>\n",
       "    <tr>\n",
       "      <th>571</th>\n",
       "      <td>8173</td>\n",
       "      <td>6778.998362</td>\n",
       "      <td>1394.001638</td>\n",
       "    </tr>\n",
       "    <tr>\n",
       "      <th>306</th>\n",
       "      <td>3974</td>\n",
       "      <td>3705.201996</td>\n",
       "      <td>268.798004</td>\n",
       "    </tr>\n",
       "    <tr>\n",
       "      <th>200</th>\n",
       "      <td>4332</td>\n",
       "      <td>4821.941886</td>\n",
       "      <td>-489.941886</td>\n",
       "    </tr>\n",
       "    <tr>\n",
       "      <th>235</th>\n",
       "      <td>5130</td>\n",
       "      <td>4469.311124</td>\n",
       "      <td>660.688876</td>\n",
       "    </tr>\n",
       "  </tbody>\n",
       "</table>\n",
       "<p>220 rows × 3 columns</p>\n",
       "</div>"
      ],
      "text/plain": [
       "     Actual Values  Predicted Values     Residual\n",
       "196           5923       4367.132541  1555.867459\n",
       "187           4592       4714.220468  -122.220468\n",
       "14            1248       1505.517568  -257.517568\n",
       "31            1360       1077.302853   282.697147\n",
       "390           4075       3743.371772   331.628228\n",
       "..             ...               ...          ...\n",
       "391           3456       3288.194096   167.805904\n",
       "571           8173       6778.998362  1394.001638\n",
       "306           3974       3705.201996   268.798004\n",
       "200           4332       4821.941886  -489.941886\n",
       "235           5130       4469.311124   660.688876\n",
       "\n",
       "[220 rows x 3 columns]"
      ]
     },
     "metadata": {},
     "output_type": "display_data"
    }
   ],
   "source": [
    "y_pred_lm6_train = lm6.predict(X_train6)\n",
    "y_pred_lm6_test = lm6.predict(X_test6)\n",
    "\n",
    "pred_lm6 = pd.DataFrame({'Actual Values':  y_test6, \n",
    "                        'Predicted Values': y_pred_lm6_test,\n",
    "                        'Residual': y_test6 - y_pred_lm6_test})\n",
    "display(pred_lm6)"
   ]
  },
  {
   "cell_type": "code",
   "execution_count": 101,
   "metadata": {},
   "outputs": [
    {
     "data": {
      "image/png": "[encoded data removed]",
      "text/plain": [
       "<Figure size 432x288 with 1 Axes>"
      ]
     },
     "metadata": {},
     "output_type": "display_data"
    }
   ],
   "source": [
    "# Plotting y_test and y_pred to understand the spread\n",
    "fig = plt.figure()\n",
    "plt.scatter(y_test6, y_pred_lm6_test, alpha=.5)\n",
    "fig.suptitle('Daily: Actual vs Prediction', fontsize = 20)   \n",
    "plt.xlabel('y_test', fontsize = 18)                        \n",
    "plt.ylabel('y_pred', fontsize = 16) \n",
    "plt.show()"
   ]
  },
  {
   "cell_type": "code",
   "execution_count": 102,
   "metadata": {},
   "outputs": [
    {
     "name": "stdout",
     "output_type": "stream",
     "text": [
      "intercept:  4487.939334637965\n",
      "       Predictor  coefficient\n",
      "0           temp   733.036725\n",
      "1          atemp   166.580128\n",
      "2            hum  -258.909038\n",
      "3      windspeed  -256.330787\n",
      "4       season_2   383.011308\n",
      "5       season_3   437.436923\n",
      "6       season_4   663.439119\n",
      "7      holiday_1   -35.359943\n",
      "8           yr_1   958.041511\n",
      "9         mnth_2    29.678865\n",
      "10        mnth_3   146.148492\n",
      "11        mnth_4    88.462207\n",
      "12        mnth_5   172.578338\n",
      "13        mnth_6    23.163874\n",
      "14        mnth_7   -84.751805\n",
      "15        mnth_8    25.466973\n",
      "16        mnth_9   207.304403\n",
      "17       mnth_10   130.566454\n",
      "18       mnth_11   -62.037375\n",
      "19       mnth_12   -21.415760\n",
      "20     weekday_1   -36.395297\n",
      "21     weekday_2     8.483361\n",
      "22     weekday_3    20.265827\n",
      "23     weekday_4    44.923417\n",
      "24     weekday_5    43.368134\n",
      "25     weekday_6    98.252200\n",
      "26  workingday_1    74.335399\n",
      "27  weathersit_2  -151.728734\n",
      "28  weathersit_3  -278.898168\n"
     ]
    }
   ],
   "source": [
    "# print coefficients\n",
    "print('intercept: ', lm6.intercept_)\n",
    "print(pd.DataFrame({'Predictor': X6.columns, 'coefficient': lm6.coef_}))"
   ]
  },
  {
   "cell_type": "code",
   "execution_count": 103,
   "metadata": {},
   "outputs": [
    {
     "name": "stdout",
     "output_type": "stream",
     "text": [
      "\n",
      "Regression statistics\n",
      "\n",
      "                      Mean Error (ME) : -0.0000\n",
      "       Root Mean Squared Error (RMSE) : 761.5693\n",
      "            Mean Absolute Error (MAE) : 554.2108\n",
      "          Mean Percentage Error (MPE) : -33.7007\n",
      "Mean Absolute Percentage Error (MAPE) : 47.3308\n",
      "\n",
      "Regression statistics\n",
      "\n",
      "                      Mean Error (ME) : 51.1230\n",
      "       Root Mean Squared Error (RMSE) : 770.5573\n",
      "            Mean Absolute Error (MAE) : 583.7586\n",
      "          Mean Percentage Error (MPE) : -4.5535\n",
      "Mean Absolute Percentage Error (MAPE) : 17.4135\n"
     ]
    }
   ],
   "source": [
    "regressionSummary(y_train6, y_pred_lm6_train)\n",
    "regressionSummary(y_test6, y_pred_lm6_test)"
   ]
  },
  {
   "cell_type": "code",
   "execution_count": 104,
   "metadata": {},
   "outputs": [
    {
     "data": {
      "text/html": [
       "<div>\n",
       "<style scoped>\n",
       "    .dataframe tbody tr th:only-of-type {\n",
       "        vertical-align: middle;\n",
       "    }\n",
       "\n",
       "    .dataframe tbody tr th {\n",
       "        vertical-align: top;\n",
       "    }\n",
       "\n",
       "    .dataframe thead th {\n",
       "        text-align: right;\n",
       "    }\n",
       "</style>\n",
       "<table border=\"1\" class=\"dataframe\">\n",
       "  <thead>\n",
       "    <tr style=\"text-align: right;\">\n",
       "      <th></th>\n",
       "      <th>Casual</th>\n",
       "      <th>Registered</th>\n",
       "      <th>Total</th>\n",
       "    </tr>\n",
       "  </thead>\n",
       "  <tbody>\n",
       "    <tr>\n",
       "      <th>Train Set</th>\n",
       "      <td>0.725402</td>\n",
       "      <td>0.833147</td>\n",
       "      <td>0.828387</td>\n",
       "    </tr>\n",
       "    <tr>\n",
       "      <th>Test Set</th>\n",
       "      <td>0.681490</td>\n",
       "      <td>0.845165</td>\n",
       "      <td>0.834173</td>\n",
       "    </tr>\n",
       "  </tbody>\n",
       "</table>\n",
       "</div>"
      ],
      "text/plain": [
       "             Casual  Registered     Total\n",
       "Train Set  0.725402    0.833147  0.828387\n",
       "Test Set   0.681490    0.845165  0.834173"
      ]
     },
     "metadata": {},
     "output_type": "display_data"
    }
   ],
   "source": [
    "# print R-squared\n",
    "r2_score2 = pd.DataFrame([(adjusted_r2_score(y_train4, y_pred_lm4_train, lm4), \n",
    "                        adjusted_r2_score(y_train5, y_pred_lm5_train, lm5),\n",
    "                        adjusted_r2_score(y_train6, y_pred_lm6_train, lm6)),\n",
    "                       (adjusted_r2_score(y_test4, y_pred_lm4_test, lm4), \n",
    "                        adjusted_r2_score(y_test5, y_pred_lm5_test, lm5), \n",
    "                        adjusted_r2_score(y_test6, y_pred_lm6_test, lm6))],\n",
    "                  index = ['Train Set', 'Test Set'],\n",
    "                  columns=('Casual', 'Registered', 'Total'))\n",
    "display(r2_score2)"
   ]
  },
  {
   "cell_type": "markdown",
   "metadata": {},
   "source": [
    "From the above results of the table, it still shows that the REGISTERED users have the highest R squared with the highest accuracy around 83.31%. And the daily users have more stable plan than hourly users. In general, daily users would not easier be disturbed since their daily routine is fixed than hourly users. The overall result is also closely to the registered one, and it explained at least 83% of users data with accuracy, which is pretty good."
   ]
  }
 ],
 "metadata": {
  "kernelspec": {
   "display_name": "Python 3",
   "language": "python",
   "name": "python3"
  },
  "language_info": {
   "codemirror_mode": {
    "name": "ipython",
    "version": 3
   },
   "file_extension": ".py",
   "mimetype": "text/x-python",
   "name": "python",
   "nbconvert_exporter": "python",
   "pygments_lexer": "ipython3",
   "version": "3.8.3"
  }
 },
 "nbformat": 4,
 "nbformat_minor": 4
}
